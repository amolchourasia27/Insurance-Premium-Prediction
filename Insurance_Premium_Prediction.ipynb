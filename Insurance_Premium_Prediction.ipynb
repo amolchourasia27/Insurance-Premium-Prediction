{
 "cells": [
  {
   "cell_type": "markdown",
   "id": "84e3a9b9",
   "metadata": {},
   "source": [
    "### import libraries"
   ]
  },
  {
   "cell_type": "code",
   "execution_count": 1,
   "id": "171c1ce4",
   "metadata": {},
   "outputs": [],
   "source": [
    "import numpy as np\n",
    "import pandas as pd\n",
    "import matplotlib.pyplot as plt\n",
    "import seaborn as sns\n",
    "import re\n",
    "\n",
    "from sklearn.preprocessing import PolynomialFeatures\n",
    "from sklearn.preprocessing import RobustScaler\n",
    "from sklearn.preprocessing import PolynomialFeatures\n",
    "from sklearn.preprocessing import RobustScaler\n",
    "from sklearn.preprocessing import OneHotEncoder\n",
    "from sklearn.preprocessing import LabelEncoder\n",
    "from sklearn.model_selection import train_test_split\n",
    "from sklearn.model_selection import cross_val_score\n",
    "from sklearn.compose import ColumnTransformer\n",
    "from sklearn.linear_model import LinearRegression\n",
    "from sklearn.linear_model import Ridge\n",
    "from sklearn.model_selection import GridSearchCV\n",
    "from sklearn.model_selection import RepeatedKFold\n",
    "from sklearn.metrics import mean_squared_error\n",
    "from sklearn.metrics import r2_score\n",
    "from sklearn.svm import SVR  \n",
    "\n",
    "from scipy import stats\n",
    "\n",
    "import statsmodels.api as sm\n",
    "from statsmodels.formula.api import ols\n",
    "from statsmodels.stats.anova import anova_lm\n",
    "import statsmodels.stats.multicomp\n",
    "\n",
    "import pickle\n",
    "\n",
    "%matplotlib inline"
   ]
  },
  {
   "cell_type": "markdown",
   "id": "8026771d",
   "metadata": {},
   "source": [
    "### import dataset\n",
    "\n",
    "The `insurance.csv` dataset contains 1338 observations (rows) and 7 features (columns). <br>\n",
    "The dataset contains 4 numerical features (age, bmi, children and expenses) and 3 nominal features (sex, smoker and region)"
   ]
  },
  {
   "cell_type": "code",
   "execution_count": 2,
   "id": "b0fae6a3",
   "metadata": {},
   "outputs": [],
   "source": [
    "data = pd.read_csv('insurance.csv')"
   ]
  },
  {
   "cell_type": "markdown",
   "id": "471040c1",
   "metadata": {},
   "source": [
    "## Data Exploration"
   ]
  },
  {
   "cell_type": "code",
   "execution_count": 3,
   "id": "6d743744",
   "metadata": {},
   "outputs": [
    {
     "data": {
      "text/html": [
       "<div>\n",
       "<style scoped>\n",
       "    .dataframe tbody tr th:only-of-type {\n",
       "        vertical-align: middle;\n",
       "    }\n",
       "\n",
       "    .dataframe tbody tr th {\n",
       "        vertical-align: top;\n",
       "    }\n",
       "\n",
       "    .dataframe thead th {\n",
       "        text-align: right;\n",
       "    }\n",
       "</style>\n",
       "<table border=\"1\" class=\"dataframe\">\n",
       "  <thead>\n",
       "    <tr style=\"text-align: right;\">\n",
       "      <th></th>\n",
       "      <th>age</th>\n",
       "      <th>sex</th>\n",
       "      <th>bmi</th>\n",
       "      <th>children</th>\n",
       "      <th>smoker</th>\n",
       "      <th>region</th>\n",
       "      <th>expenses</th>\n",
       "    </tr>\n",
       "  </thead>\n",
       "  <tbody>\n",
       "    <tr>\n",
       "      <th>0</th>\n",
       "      <td>19</td>\n",
       "      <td>female</td>\n",
       "      <td>27.9</td>\n",
       "      <td>0</td>\n",
       "      <td>yes</td>\n",
       "      <td>southwest</td>\n",
       "      <td>16884.92</td>\n",
       "    </tr>\n",
       "    <tr>\n",
       "      <th>1</th>\n",
       "      <td>18</td>\n",
       "      <td>male</td>\n",
       "      <td>33.8</td>\n",
       "      <td>1</td>\n",
       "      <td>no</td>\n",
       "      <td>southeast</td>\n",
       "      <td>1725.55</td>\n",
       "    </tr>\n",
       "    <tr>\n",
       "      <th>2</th>\n",
       "      <td>28</td>\n",
       "      <td>male</td>\n",
       "      <td>33.0</td>\n",
       "      <td>3</td>\n",
       "      <td>no</td>\n",
       "      <td>southeast</td>\n",
       "      <td>4449.46</td>\n",
       "    </tr>\n",
       "    <tr>\n",
       "      <th>3</th>\n",
       "      <td>33</td>\n",
       "      <td>male</td>\n",
       "      <td>22.7</td>\n",
       "      <td>0</td>\n",
       "      <td>no</td>\n",
       "      <td>northwest</td>\n",
       "      <td>21984.47</td>\n",
       "    </tr>\n",
       "    <tr>\n",
       "      <th>4</th>\n",
       "      <td>32</td>\n",
       "      <td>male</td>\n",
       "      <td>28.9</td>\n",
       "      <td>0</td>\n",
       "      <td>no</td>\n",
       "      <td>northwest</td>\n",
       "      <td>3866.86</td>\n",
       "    </tr>\n",
       "  </tbody>\n",
       "</table>\n",
       "</div>"
      ],
      "text/plain": [
       "   age     sex   bmi  children smoker     region  expenses\n",
       "0   19  female  27.9         0    yes  southwest  16884.92\n",
       "1   18    male  33.8         1     no  southeast   1725.55\n",
       "2   28    male  33.0         3     no  southeast   4449.46\n",
       "3   33    male  22.7         0     no  northwest  21984.47\n",
       "4   32    male  28.9         0     no  northwest   3866.86"
      ]
     },
     "execution_count": 3,
     "metadata": {},
     "output_type": "execute_result"
    }
   ],
   "source": [
    "data.head(5)"
   ]
  },
  {
   "cell_type": "code",
   "execution_count": 4,
   "id": "a2a2f49e",
   "metadata": {},
   "outputs": [
    {
     "data": {
      "text/html": [
       "<div>\n",
       "<style scoped>\n",
       "    .dataframe tbody tr th:only-of-type {\n",
       "        vertical-align: middle;\n",
       "    }\n",
       "\n",
       "    .dataframe tbody tr th {\n",
       "        vertical-align: top;\n",
       "    }\n",
       "\n",
       "    .dataframe thead th {\n",
       "        text-align: right;\n",
       "    }\n",
       "</style>\n",
       "<table border=\"1\" class=\"dataframe\">\n",
       "  <thead>\n",
       "    <tr style=\"text-align: right;\">\n",
       "      <th></th>\n",
       "      <th>age</th>\n",
       "      <th>sex</th>\n",
       "      <th>bmi</th>\n",
       "      <th>children</th>\n",
       "      <th>smoker</th>\n",
       "      <th>region</th>\n",
       "      <th>expenses</th>\n",
       "    </tr>\n",
       "  </thead>\n",
       "  <tbody>\n",
       "    <tr>\n",
       "      <th>1333</th>\n",
       "      <td>50</td>\n",
       "      <td>male</td>\n",
       "      <td>31.0</td>\n",
       "      <td>3</td>\n",
       "      <td>no</td>\n",
       "      <td>northwest</td>\n",
       "      <td>10600.55</td>\n",
       "    </tr>\n",
       "    <tr>\n",
       "      <th>1334</th>\n",
       "      <td>18</td>\n",
       "      <td>female</td>\n",
       "      <td>31.9</td>\n",
       "      <td>0</td>\n",
       "      <td>no</td>\n",
       "      <td>northeast</td>\n",
       "      <td>2205.98</td>\n",
       "    </tr>\n",
       "    <tr>\n",
       "      <th>1335</th>\n",
       "      <td>18</td>\n",
       "      <td>female</td>\n",
       "      <td>36.9</td>\n",
       "      <td>0</td>\n",
       "      <td>no</td>\n",
       "      <td>southeast</td>\n",
       "      <td>1629.83</td>\n",
       "    </tr>\n",
       "    <tr>\n",
       "      <th>1336</th>\n",
       "      <td>21</td>\n",
       "      <td>female</td>\n",
       "      <td>25.8</td>\n",
       "      <td>0</td>\n",
       "      <td>no</td>\n",
       "      <td>southwest</td>\n",
       "      <td>2007.95</td>\n",
       "    </tr>\n",
       "    <tr>\n",
       "      <th>1337</th>\n",
       "      <td>61</td>\n",
       "      <td>female</td>\n",
       "      <td>29.1</td>\n",
       "      <td>0</td>\n",
       "      <td>yes</td>\n",
       "      <td>northwest</td>\n",
       "      <td>29141.36</td>\n",
       "    </tr>\n",
       "  </tbody>\n",
       "</table>\n",
       "</div>"
      ],
      "text/plain": [
       "      age     sex   bmi  children smoker     region  expenses\n",
       "1333   50    male  31.0         3     no  northwest  10600.55\n",
       "1334   18  female  31.9         0     no  northeast   2205.98\n",
       "1335   18  female  36.9         0     no  southeast   1629.83\n",
       "1336   21  female  25.8         0     no  southwest   2007.95\n",
       "1337   61  female  29.1         0    yes  northwest  29141.36"
      ]
     },
     "execution_count": 4,
     "metadata": {},
     "output_type": "execute_result"
    }
   ],
   "source": [
    "data.tail(5)"
   ]
  },
  {
   "cell_type": "code",
   "execution_count": 5,
   "id": "31109a6a",
   "metadata": {},
   "outputs": [
    {
     "data": {
      "text/html": [
       "<div>\n",
       "<style scoped>\n",
       "    .dataframe tbody tr th:only-of-type {\n",
       "        vertical-align: middle;\n",
       "    }\n",
       "\n",
       "    .dataframe tbody tr th {\n",
       "        vertical-align: top;\n",
       "    }\n",
       "\n",
       "    .dataframe thead th {\n",
       "        text-align: right;\n",
       "    }\n",
       "</style>\n",
       "<table border=\"1\" class=\"dataframe\">\n",
       "  <thead>\n",
       "    <tr style=\"text-align: right;\">\n",
       "      <th></th>\n",
       "      <th>age</th>\n",
       "      <th>sex</th>\n",
       "      <th>bmi</th>\n",
       "      <th>children</th>\n",
       "      <th>smoker</th>\n",
       "      <th>region</th>\n",
       "      <th>expenses</th>\n",
       "    </tr>\n",
       "  </thead>\n",
       "  <tbody>\n",
       "    <tr>\n",
       "      <th>1313</th>\n",
       "      <td>19</td>\n",
       "      <td>female</td>\n",
       "      <td>34.7</td>\n",
       "      <td>2</td>\n",
       "      <td>yes</td>\n",
       "      <td>southwest</td>\n",
       "      <td>36397.58</td>\n",
       "    </tr>\n",
       "    <tr>\n",
       "      <th>49</th>\n",
       "      <td>36</td>\n",
       "      <td>male</td>\n",
       "      <td>35.2</td>\n",
       "      <td>1</td>\n",
       "      <td>yes</td>\n",
       "      <td>southeast</td>\n",
       "      <td>38709.18</td>\n",
       "    </tr>\n",
       "    <tr>\n",
       "      <th>528</th>\n",
       "      <td>46</td>\n",
       "      <td>male</td>\n",
       "      <td>39.4</td>\n",
       "      <td>1</td>\n",
       "      <td>no</td>\n",
       "      <td>northeast</td>\n",
       "      <td>8342.91</td>\n",
       "    </tr>\n",
       "    <tr>\n",
       "      <th>760</th>\n",
       "      <td>22</td>\n",
       "      <td>female</td>\n",
       "      <td>34.6</td>\n",
       "      <td>2</td>\n",
       "      <td>no</td>\n",
       "      <td>northeast</td>\n",
       "      <td>3925.76</td>\n",
       "    </tr>\n",
       "    <tr>\n",
       "      <th>906</th>\n",
       "      <td>27</td>\n",
       "      <td>male</td>\n",
       "      <td>32.6</td>\n",
       "      <td>3</td>\n",
       "      <td>no</td>\n",
       "      <td>northeast</td>\n",
       "      <td>4846.92</td>\n",
       "    </tr>\n",
       "  </tbody>\n",
       "</table>\n",
       "</div>"
      ],
      "text/plain": [
       "      age     sex   bmi  children smoker     region  expenses\n",
       "1313   19  female  34.7         2    yes  southwest  36397.58\n",
       "49     36    male  35.2         1    yes  southeast  38709.18\n",
       "528    46    male  39.4         1     no  northeast   8342.91\n",
       "760    22  female  34.6         2     no  northeast   3925.76\n",
       "906    27    male  32.6         3     no  northeast   4846.92"
      ]
     },
     "execution_count": 5,
     "metadata": {},
     "output_type": "execute_result"
    }
   ],
   "source": [
    "data.sample(5)"
   ]
  },
  {
   "cell_type": "code",
   "execution_count": 6,
   "id": "9b0e908a",
   "metadata": {},
   "outputs": [
    {
     "data": {
      "text/plain": [
       "Index(['age', 'sex', 'bmi', 'children', 'smoker', 'region', 'expenses'], dtype='object')"
      ]
     },
     "execution_count": 6,
     "metadata": {},
     "output_type": "execute_result"
    }
   ],
   "source": [
    "data.columns"
   ]
  },
  {
   "cell_type": "markdown",
   "id": "219b5895",
   "metadata": {},
   "source": [
    " "
   ]
  },
  {
   "cell_type": "markdown",
   "id": "68590b08",
   "metadata": {},
   "source": [
    "### Exploratory Data  Analysis"
   ]
  },
  {
   "cell_type": "code",
   "execution_count": 7,
   "id": "d8602462",
   "metadata": {},
   "outputs": [
    {
     "name": "stdout",
     "output_type": "stream",
     "text": [
      "<class 'pandas.core.frame.DataFrame'>\n",
      "RangeIndex: 1338 entries, 0 to 1337\n",
      "Data columns (total 7 columns):\n",
      " #   Column    Non-Null Count  Dtype  \n",
      "---  ------    --------------  -----  \n",
      " 0   age       1338 non-null   int64  \n",
      " 1   sex       1338 non-null   object \n",
      " 2   bmi       1338 non-null   float64\n",
      " 3   children  1338 non-null   int64  \n",
      " 4   smoker    1338 non-null   object \n",
      " 5   region    1338 non-null   object \n",
      " 6   expenses  1338 non-null   float64\n",
      "dtypes: float64(2), int64(2), object(3)\n",
      "memory usage: 73.3+ KB\n"
     ]
    }
   ],
   "source": [
    "data.info()"
   ]
  },
  {
   "cell_type": "code",
   "execution_count": 8,
   "id": "5f38253d",
   "metadata": {},
   "outputs": [
    {
     "data": {
      "text/html": [
       "<div>\n",
       "<style scoped>\n",
       "    .dataframe tbody tr th:only-of-type {\n",
       "        vertical-align: middle;\n",
       "    }\n",
       "\n",
       "    .dataframe tbody tr th {\n",
       "        vertical-align: top;\n",
       "    }\n",
       "\n",
       "    .dataframe thead th {\n",
       "        text-align: right;\n",
       "    }\n",
       "</style>\n",
       "<table border=\"1\" class=\"dataframe\">\n",
       "  <thead>\n",
       "    <tr style=\"text-align: right;\">\n",
       "      <th></th>\n",
       "      <th>age</th>\n",
       "      <th>bmi</th>\n",
       "      <th>children</th>\n",
       "      <th>expenses</th>\n",
       "    </tr>\n",
       "  </thead>\n",
       "  <tbody>\n",
       "    <tr>\n",
       "      <th>count</th>\n",
       "      <td>1338.000000</td>\n",
       "      <td>1338.000000</td>\n",
       "      <td>1338.000000</td>\n",
       "      <td>1338.000000</td>\n",
       "    </tr>\n",
       "    <tr>\n",
       "      <th>mean</th>\n",
       "      <td>39.207025</td>\n",
       "      <td>30.665471</td>\n",
       "      <td>1.094918</td>\n",
       "      <td>13270.422414</td>\n",
       "    </tr>\n",
       "    <tr>\n",
       "      <th>std</th>\n",
       "      <td>14.049960</td>\n",
       "      <td>6.098382</td>\n",
       "      <td>1.205493</td>\n",
       "      <td>12110.011240</td>\n",
       "    </tr>\n",
       "    <tr>\n",
       "      <th>min</th>\n",
       "      <td>18.000000</td>\n",
       "      <td>16.000000</td>\n",
       "      <td>0.000000</td>\n",
       "      <td>1121.870000</td>\n",
       "    </tr>\n",
       "    <tr>\n",
       "      <th>25%</th>\n",
       "      <td>27.000000</td>\n",
       "      <td>26.300000</td>\n",
       "      <td>0.000000</td>\n",
       "      <td>4740.287500</td>\n",
       "    </tr>\n",
       "    <tr>\n",
       "      <th>50%</th>\n",
       "      <td>39.000000</td>\n",
       "      <td>30.400000</td>\n",
       "      <td>1.000000</td>\n",
       "      <td>9382.030000</td>\n",
       "    </tr>\n",
       "    <tr>\n",
       "      <th>75%</th>\n",
       "      <td>51.000000</td>\n",
       "      <td>34.700000</td>\n",
       "      <td>2.000000</td>\n",
       "      <td>16639.915000</td>\n",
       "    </tr>\n",
       "    <tr>\n",
       "      <th>max</th>\n",
       "      <td>64.000000</td>\n",
       "      <td>53.100000</td>\n",
       "      <td>5.000000</td>\n",
       "      <td>63770.430000</td>\n",
       "    </tr>\n",
       "  </tbody>\n",
       "</table>\n",
       "</div>"
      ],
      "text/plain": [
       "               age          bmi     children      expenses\n",
       "count  1338.000000  1338.000000  1338.000000   1338.000000\n",
       "mean     39.207025    30.665471     1.094918  13270.422414\n",
       "std      14.049960     6.098382     1.205493  12110.011240\n",
       "min      18.000000    16.000000     0.000000   1121.870000\n",
       "25%      27.000000    26.300000     0.000000   4740.287500\n",
       "50%      39.000000    30.400000     1.000000   9382.030000\n",
       "75%      51.000000    34.700000     2.000000  16639.915000\n",
       "max      64.000000    53.100000     5.000000  63770.430000"
      ]
     },
     "execution_count": 8,
     "metadata": {},
     "output_type": "execute_result"
    }
   ],
   "source": [
    "data.describe()"
   ]
  },
  {
   "cell_type": "markdown",
   "id": "a6241362",
   "metadata": {},
   "source": [
    "## Data Cleaning\n",
    "Check for NaN values in the dataset"
   ]
  },
  {
   "cell_type": "code",
   "execution_count": 9,
   "id": "d2aa9c38",
   "metadata": {
    "scrolled": true
   },
   "outputs": [
    {
     "data": {
      "text/plain": [
       "age         0\n",
       "sex         0\n",
       "bmi         0\n",
       "children    0\n",
       "smoker      0\n",
       "region      0\n",
       "expenses    0\n",
       "dtype: int64"
      ]
     },
     "execution_count": 9,
     "metadata": {},
     "output_type": "execute_result"
    }
   ],
   "source": [
    "data.isnull().sum()"
   ]
  },
  {
   "cell_type": "markdown",
   "id": "f7447651",
   "metadata": {},
   "source": [
    "columns and their contents"
   ]
  },
  {
   "cell_type": "code",
   "execution_count": 10,
   "id": "8a4ce62b",
   "metadata": {},
   "outputs": [
    {
     "name": "stdout",
     "output_type": "stream",
     "text": [
      "age : 47\n",
      "sex : ['female' 'male']\n",
      "bmi : 275\n",
      "children : 6\n",
      "smoker : ['yes' 'no']\n",
      "region : ['southwest' 'southeast' 'northwest' 'northeast']\n",
      "expenses : 1337\n"
     ]
    }
   ],
   "source": [
    "for col in data.columns:\n",
    "    if data[col].dtype == 'object':\n",
    "        print(col, ':', data[col].unique())\n",
    "    else:\n",
    "        print(col, ':', data[col].nunique())"
   ]
  },
  {
   "cell_type": "markdown",
   "id": "69a1af50",
   "metadata": {},
   "source": [
    "## Feature Engineering"
   ]
  },
  {
   "cell_type": "markdown",
   "id": "1355b181",
   "metadata": {},
   "source": [
    "### Binning"
   ]
  },
  {
   "cell_type": "code",
   "execution_count": 11,
   "id": "9edb110d",
   "metadata": {},
   "outputs": [],
   "source": [
    "bins = [0.0, 18.5, 24.9, 29.9, 60]\n",
    "labels = ['Underweight', 'Normal', 'Overweight', 'Obese']\n",
    "data['bmi_cat'] = pd.cut(data['bmi'], bins, labels=labels)"
   ]
  },
  {
   "cell_type": "markdown",
   "id": "f78c4fc0",
   "metadata": {},
   "source": [
    "### Categorical to Numerical Encoding"
   ]
  },
  {
   "cell_type": "code",
   "execution_count": 12,
   "id": "c22e4f25",
   "metadata": {},
   "outputs": [],
   "source": [
    "le = LabelEncoder()\n",
    "\n",
    "data['children'] = le.fit_transform(data['children'])\n",
    "data['smoker'] = le.fit_transform(data['smoker'])"
   ]
  },
  {
   "cell_type": "code",
   "execution_count": 13,
   "id": "0e79a0d7",
   "metadata": {},
   "outputs": [],
   "source": [
    "ohe = OneHotEncoder() \n",
    "\n",
    "data['sex'] = ohe.fit_transform(data[['sex']]).toarray()\n",
    "\n",
    "regional_area = pd.DataFrame(ohe.fit_transform(data[['region']]).toarray(), columns = ['NE', 'NW', 'SE', 'SW'])"
   ]
  },
  {
   "cell_type": "code",
   "execution_count": 14,
   "id": "331301fe",
   "metadata": {},
   "outputs": [],
   "source": [
    "bmi_bins = pd.DataFrame(ohe.fit_transform(data[['bmi_cat']]).toarray(), \n",
    "                        columns= ['Normal', 'Obese', 'Overweight', 'Underweight'])"
   ]
  },
  {
   "cell_type": "code",
   "execution_count": 15,
   "id": "002eb0e7",
   "metadata": {},
   "outputs": [],
   "source": [
    "data = pd.concat([ data.iloc[:,:2], data.iloc[:,7:8], bmi_bins, data.iloc[:,3:6], regional_area, data.iloc[:,-2:-1]], axis=1)"
   ]
  },
  {
   "cell_type": "markdown",
   "id": "011618e2",
   "metadata": {},
   "source": [
    " "
   ]
  },
  {
   "cell_type": "markdown",
   "id": "006f3cfd",
   "metadata": {},
   "source": [
    "## Analytics and Visualization"
   ]
  },
  {
   "cell_type": "code",
   "execution_count": 16,
   "id": "ec4b06c8",
   "metadata": {},
   "outputs": [
    {
     "data": {
      "text/html": [
       "<div>\n",
       "<style scoped>\n",
       "    .dataframe tbody tr th:only-of-type {\n",
       "        vertical-align: middle;\n",
       "    }\n",
       "\n",
       "    .dataframe tbody tr th {\n",
       "        vertical-align: top;\n",
       "    }\n",
       "\n",
       "    .dataframe thead th {\n",
       "        text-align: right;\n",
       "    }\n",
       "</style>\n",
       "<table border=\"1\" class=\"dataframe\">\n",
       "  <thead>\n",
       "    <tr style=\"text-align: right;\">\n",
       "      <th></th>\n",
       "      <th>age</th>\n",
       "      <th>sex</th>\n",
       "      <th>bmi_cat</th>\n",
       "      <th>Normal</th>\n",
       "      <th>Obese</th>\n",
       "      <th>Overweight</th>\n",
       "      <th>Underweight</th>\n",
       "      <th>children</th>\n",
       "      <th>smoker</th>\n",
       "      <th>region</th>\n",
       "      <th>NE</th>\n",
       "      <th>NW</th>\n",
       "      <th>SE</th>\n",
       "      <th>SW</th>\n",
       "      <th>expenses</th>\n",
       "    </tr>\n",
       "  </thead>\n",
       "  <tbody>\n",
       "    <tr>\n",
       "      <th>224</th>\n",
       "      <td>42</td>\n",
       "      <td>0.0</td>\n",
       "      <td>Normal</td>\n",
       "      <td>1.0</td>\n",
       "      <td>0.0</td>\n",
       "      <td>0.0</td>\n",
       "      <td>0.0</td>\n",
       "      <td>0</td>\n",
       "      <td>1</td>\n",
       "      <td>southeast</td>\n",
       "      <td>0.0</td>\n",
       "      <td>0.0</td>\n",
       "      <td>1.0</td>\n",
       "      <td>0.0</td>\n",
       "      <td>19515.54</td>\n",
       "    </tr>\n",
       "    <tr>\n",
       "      <th>595</th>\n",
       "      <td>46</td>\n",
       "      <td>1.0</td>\n",
       "      <td>Obese</td>\n",
       "      <td>0.0</td>\n",
       "      <td>1.0</td>\n",
       "      <td>0.0</td>\n",
       "      <td>0.0</td>\n",
       "      <td>1</td>\n",
       "      <td>0</td>\n",
       "      <td>northeast</td>\n",
       "      <td>1.0</td>\n",
       "      <td>0.0</td>\n",
       "      <td>0.0</td>\n",
       "      <td>0.0</td>\n",
       "      <td>8823.99</td>\n",
       "    </tr>\n",
       "    <tr>\n",
       "      <th>1252</th>\n",
       "      <td>20</td>\n",
       "      <td>0.0</td>\n",
       "      <td>Overweight</td>\n",
       "      <td>0.0</td>\n",
       "      <td>0.0</td>\n",
       "      <td>1.0</td>\n",
       "      <td>0.0</td>\n",
       "      <td>0</td>\n",
       "      <td>1</td>\n",
       "      <td>southwest</td>\n",
       "      <td>0.0</td>\n",
       "      <td>0.0</td>\n",
       "      <td>0.0</td>\n",
       "      <td>1.0</td>\n",
       "      <td>16232.85</td>\n",
       "    </tr>\n",
       "  </tbody>\n",
       "</table>\n",
       "</div>"
      ],
      "text/plain": [
       "      age  sex     bmi_cat  Normal  Obese  Overweight  Underweight  children  \\\n",
       "224    42  0.0      Normal     1.0    0.0         0.0          0.0         0   \n",
       "595    46  1.0       Obese     0.0    1.0         0.0          0.0         1   \n",
       "1252   20  0.0  Overweight     0.0    0.0         1.0          0.0         0   \n",
       "\n",
       "      smoker     region   NE   NW   SE   SW  expenses  \n",
       "224        1  southeast  0.0  0.0  1.0  0.0  19515.54  \n",
       "595        0  northeast  1.0  0.0  0.0  0.0   8823.99  \n",
       "1252       1  southwest  0.0  0.0  0.0  1.0  16232.85  "
      ]
     },
     "execution_count": 16,
     "metadata": {},
     "output_type": "execute_result"
    }
   ],
   "source": [
    "data.sample(3)"
   ]
  },
  {
   "cell_type": "markdown",
   "id": "1232cbd4",
   "metadata": {},
   "source": [
    "### Statistical Analysis"
   ]
  },
  {
   "cell_type": "code",
   "execution_count": 17,
   "id": "8be0bfd8",
   "metadata": {},
   "outputs": [
    {
     "name": "stdout",
     "output_type": "stream",
     "text": [
      "age\n",
      "Pearson Coefficient : 0.29900819228508274 \n",
      "P Value : 4.886695589992816e-29 \n",
      "\n",
      "Spearman Coefficient : 0.5343921337718459 \n",
      "P Value : 1.130692027803638e-99 \n",
      "\n",
      "\n",
      "sex\n",
      "F-Statistic=1606.587, p=0.000\n",
      "\n",
      "\n",
      "Normal\n",
      "F-Statistic=1606.666, p=0.000\n",
      "\n",
      "\n",
      "Obese\n",
      "F-Statistic=1606.578, p=0.000\n",
      "\n",
      "\n",
      "Overweight\n",
      "F-Statistic=1606.636, p=0.000\n",
      "\n",
      "\n",
      "Underweight\n",
      "F-Statistic=1606.703, p=0.000\n",
      "\n",
      "\n",
      "children\n",
      "F-Statistic=1606.441, p=0.000\n",
      "\n",
      "\n",
      "smoker\n",
      "F-Statistic=1606.657, p=0.000\n",
      "\n",
      "\n",
      "NE\n",
      "F-Statistic=1606.648, p=0.000\n",
      "\n",
      "\n",
      "NW\n",
      "F-Statistic=1606.648, p=0.000\n",
      "\n",
      "\n",
      "SE\n",
      "F-Statistic=1606.640, p=0.000\n",
      "\n",
      "\n",
      "SW\n",
      "F-Statistic=1606.648, p=0.000\n",
      "\n",
      "\n"
     ]
    }
   ],
   "source": [
    "for i in range(len(data.columns)-1):\n",
    "    if data.columns[i] in ['region', 'bmi_cat']:\n",
    "        continue\n",
    "        \n",
    "    print(data.columns[i])\n",
    "    \n",
    "    #for numerical-numerical\n",
    "    if data.columns[i] in ['age', 'bmi']:\n",
    "        \n",
    "        pearson_coef, p_val = stats.pearsonr(data[data.columns[i]], data['expenses'])\n",
    "        print('Pearson Coefficient :',pearson_coef,'\\nP Value :',p_val,'\\n')\n",
    "        \n",
    "        spearman_coef, p_val = stats.spearmanr(data[data.columns[i]], data['expenses'])\n",
    "        print('Spearman Coefficient :',spearman_coef,'\\nP Value :',p_val,'\\n\\n')\n",
    "        \n",
    "    #fot numerical-categorical    \n",
    "    else:\n",
    "        #one-way ANOVA\n",
    "        F, p = stats.f_oneway(data[data.columns[i]],data['expenses'])\n",
    "        print('F-Statistic=%.3f, p=%.3f\\n\\n' % (F, p))\n",
    "        "
   ]
  },
  {
   "cell_type": "code",
   "execution_count": 18,
   "id": "2084394c",
   "metadata": {
    "scrolled": true
   },
   "outputs": [
    {
     "data": {
      "text/html": [
       "<div>\n",
       "<style scoped>\n",
       "    .dataframe tbody tr th:only-of-type {\n",
       "        vertical-align: middle;\n",
       "    }\n",
       "\n",
       "    .dataframe tbody tr th {\n",
       "        vertical-align: top;\n",
       "    }\n",
       "\n",
       "    .dataframe thead th {\n",
       "        text-align: right;\n",
       "    }\n",
       "</style>\n",
       "<table border=\"1\" class=\"dataframe\">\n",
       "  <thead>\n",
       "    <tr style=\"text-align: right;\">\n",
       "      <th></th>\n",
       "      <th>age</th>\n",
       "      <th>sex</th>\n",
       "      <th>Normal</th>\n",
       "      <th>Obese</th>\n",
       "      <th>Overweight</th>\n",
       "      <th>Underweight</th>\n",
       "      <th>children</th>\n",
       "      <th>smoker</th>\n",
       "      <th>NE</th>\n",
       "      <th>NW</th>\n",
       "      <th>SE</th>\n",
       "      <th>SW</th>\n",
       "      <th>expenses</th>\n",
       "    </tr>\n",
       "  </thead>\n",
       "  <tbody>\n",
       "    <tr>\n",
       "      <th>age</th>\n",
       "      <td>1.000000</td>\n",
       "      <td>0.020856</td>\n",
       "      <td>-0.077350</td>\n",
       "      <td>0.085668</td>\n",
       "      <td>-0.014125</td>\n",
       "      <td>-0.061373</td>\n",
       "      <td>0.042469</td>\n",
       "      <td>-0.025019</td>\n",
       "      <td>0.002475</td>\n",
       "      <td>-0.000407</td>\n",
       "      <td>-0.011642</td>\n",
       "      <td>0.010016</td>\n",
       "      <td>0.299008</td>\n",
       "    </tr>\n",
       "    <tr>\n",
       "      <th>sex</th>\n",
       "      <td>0.020856</td>\n",
       "      <td>1.000000</td>\n",
       "      <td>0.022770</td>\n",
       "      <td>-0.047317</td>\n",
       "      <td>0.024805</td>\n",
       "      <td>0.031388</td>\n",
       "      <td>-0.017163</td>\n",
       "      <td>-0.076185</td>\n",
       "      <td>0.002425</td>\n",
       "      <td>0.011156</td>\n",
       "      <td>-0.017117</td>\n",
       "      <td>0.004184</td>\n",
       "      <td>-0.057292</td>\n",
       "    </tr>\n",
       "    <tr>\n",
       "      <th>Normal</th>\n",
       "      <td>-0.077350</td>\n",
       "      <td>0.022770</td>\n",
       "      <td>1.000000</td>\n",
       "      <td>-0.470830</td>\n",
       "      <td>-0.284781</td>\n",
       "      <td>-0.056168</td>\n",
       "      <td>0.008390</td>\n",
       "      <td>0.023655</td>\n",
       "      <td>0.086845</td>\n",
       "      <td>0.039045</td>\n",
       "      <td>-0.091009</td>\n",
       "      <td>-0.031356</td>\n",
       "      <td>-0.105291</td>\n",
       "    </tr>\n",
       "    <tr>\n",
       "      <th>Obese</th>\n",
       "      <td>0.085668</td>\n",
       "      <td>-0.047317</td>\n",
       "      <td>-0.470830</td>\n",
       "      <td>1.000000</td>\n",
       "      <td>-0.677699</td>\n",
       "      <td>-0.133663</td>\n",
       "      <td>0.009807</td>\n",
       "      <td>0.000810</td>\n",
       "      <td>-0.098564</td>\n",
       "      <td>-0.082849</td>\n",
       "      <td>0.170445</td>\n",
       "      <td>0.004433</td>\n",
       "      <td>0.199532</td>\n",
       "    </tr>\n",
       "    <tr>\n",
       "      <th>Overweight</th>\n",
       "      <td>-0.014125</td>\n",
       "      <td>0.024805</td>\n",
       "      <td>-0.284781</td>\n",
       "      <td>-0.677699</td>\n",
       "      <td>1.000000</td>\n",
       "      <td>-0.080846</td>\n",
       "      <td>-0.016285</td>\n",
       "      <td>-0.023087</td>\n",
       "      <td>0.018452</td>\n",
       "      <td>0.051859</td>\n",
       "      <td>-0.091820</td>\n",
       "      <td>0.024993</td>\n",
       "      <td>-0.120075</td>\n",
       "    </tr>\n",
       "    <tr>\n",
       "      <th>Underweight</th>\n",
       "      <td>-0.061373</td>\n",
       "      <td>0.031388</td>\n",
       "      <td>-0.056168</td>\n",
       "      <td>-0.133663</td>\n",
       "      <td>-0.080846</td>\n",
       "      <td>1.000000</td>\n",
       "      <td>-0.004956</td>\n",
       "      <td>0.010424</td>\n",
       "      <td>0.068987</td>\n",
       "      <td>0.026629</td>\n",
       "      <td>-0.077195</td>\n",
       "      <td>-0.015437</td>\n",
       "      <td>-0.048117</td>\n",
       "    </tr>\n",
       "    <tr>\n",
       "      <th>children</th>\n",
       "      <td>0.042469</td>\n",
       "      <td>-0.017163</td>\n",
       "      <td>0.008390</td>\n",
       "      <td>0.009807</td>\n",
       "      <td>-0.016285</td>\n",
       "      <td>-0.004956</td>\n",
       "      <td>1.000000</td>\n",
       "      <td>0.007673</td>\n",
       "      <td>-0.022808</td>\n",
       "      <td>0.024806</td>\n",
       "      <td>-0.023066</td>\n",
       "      <td>0.021914</td>\n",
       "      <td>0.067998</td>\n",
       "    </tr>\n",
       "    <tr>\n",
       "      <th>smoker</th>\n",
       "      <td>-0.025019</td>\n",
       "      <td>-0.076185</td>\n",
       "      <td>0.023655</td>\n",
       "      <td>0.000810</td>\n",
       "      <td>-0.023087</td>\n",
       "      <td>0.010424</td>\n",
       "      <td>0.007673</td>\n",
       "      <td>1.000000</td>\n",
       "      <td>0.002811</td>\n",
       "      <td>-0.036945</td>\n",
       "      <td>0.068498</td>\n",
       "      <td>-0.036945</td>\n",
       "      <td>0.787251</td>\n",
       "    </tr>\n",
       "    <tr>\n",
       "      <th>NE</th>\n",
       "      <td>0.002475</td>\n",
       "      <td>0.002425</td>\n",
       "      <td>0.086845</td>\n",
       "      <td>-0.098564</td>\n",
       "      <td>0.018452</td>\n",
       "      <td>0.068987</td>\n",
       "      <td>-0.022808</td>\n",
       "      <td>0.002811</td>\n",
       "      <td>1.000000</td>\n",
       "      <td>-0.320177</td>\n",
       "      <td>-0.345561</td>\n",
       "      <td>-0.320177</td>\n",
       "      <td>0.006349</td>\n",
       "    </tr>\n",
       "    <tr>\n",
       "      <th>NW</th>\n",
       "      <td>-0.000407</td>\n",
       "      <td>0.011156</td>\n",
       "      <td>0.039045</td>\n",
       "      <td>-0.082849</td>\n",
       "      <td>0.051859</td>\n",
       "      <td>0.026629</td>\n",
       "      <td>0.024806</td>\n",
       "      <td>-0.036945</td>\n",
       "      <td>-0.320177</td>\n",
       "      <td>1.000000</td>\n",
       "      <td>-0.346265</td>\n",
       "      <td>-0.320829</td>\n",
       "      <td>-0.039905</td>\n",
       "    </tr>\n",
       "    <tr>\n",
       "      <th>SE</th>\n",
       "      <td>-0.011642</td>\n",
       "      <td>-0.017117</td>\n",
       "      <td>-0.091009</td>\n",
       "      <td>0.170445</td>\n",
       "      <td>-0.091820</td>\n",
       "      <td>-0.077195</td>\n",
       "      <td>-0.023066</td>\n",
       "      <td>0.068498</td>\n",
       "      <td>-0.345561</td>\n",
       "      <td>-0.346265</td>\n",
       "      <td>1.000000</td>\n",
       "      <td>-0.346265</td>\n",
       "      <td>0.073982</td>\n",
       "    </tr>\n",
       "    <tr>\n",
       "      <th>SW</th>\n",
       "      <td>0.010016</td>\n",
       "      <td>0.004184</td>\n",
       "      <td>-0.031356</td>\n",
       "      <td>0.004433</td>\n",
       "      <td>0.024993</td>\n",
       "      <td>-0.015437</td>\n",
       "      <td>0.021914</td>\n",
       "      <td>-0.036945</td>\n",
       "      <td>-0.320177</td>\n",
       "      <td>-0.320829</td>\n",
       "      <td>-0.346265</td>\n",
       "      <td>1.000000</td>\n",
       "      <td>-0.043210</td>\n",
       "    </tr>\n",
       "    <tr>\n",
       "      <th>expenses</th>\n",
       "      <td>0.299008</td>\n",
       "      <td>-0.057292</td>\n",
       "      <td>-0.105291</td>\n",
       "      <td>0.199532</td>\n",
       "      <td>-0.120075</td>\n",
       "      <td>-0.048117</td>\n",
       "      <td>0.067998</td>\n",
       "      <td>0.787251</td>\n",
       "      <td>0.006349</td>\n",
       "      <td>-0.039905</td>\n",
       "      <td>0.073982</td>\n",
       "      <td>-0.043210</td>\n",
       "      <td>1.000000</td>\n",
       "    </tr>\n",
       "  </tbody>\n",
       "</table>\n",
       "</div>"
      ],
      "text/plain": [
       "                  age       sex    Normal     Obese  Overweight  Underweight  \\\n",
       "age          1.000000  0.020856 -0.077350  0.085668   -0.014125    -0.061373   \n",
       "sex          0.020856  1.000000  0.022770 -0.047317    0.024805     0.031388   \n",
       "Normal      -0.077350  0.022770  1.000000 -0.470830   -0.284781    -0.056168   \n",
       "Obese        0.085668 -0.047317 -0.470830  1.000000   -0.677699    -0.133663   \n",
       "Overweight  -0.014125  0.024805 -0.284781 -0.677699    1.000000    -0.080846   \n",
       "Underweight -0.061373  0.031388 -0.056168 -0.133663   -0.080846     1.000000   \n",
       "children     0.042469 -0.017163  0.008390  0.009807   -0.016285    -0.004956   \n",
       "smoker      -0.025019 -0.076185  0.023655  0.000810   -0.023087     0.010424   \n",
       "NE           0.002475  0.002425  0.086845 -0.098564    0.018452     0.068987   \n",
       "NW          -0.000407  0.011156  0.039045 -0.082849    0.051859     0.026629   \n",
       "SE          -0.011642 -0.017117 -0.091009  0.170445   -0.091820    -0.077195   \n",
       "SW           0.010016  0.004184 -0.031356  0.004433    0.024993    -0.015437   \n",
       "expenses     0.299008 -0.057292 -0.105291  0.199532   -0.120075    -0.048117   \n",
       "\n",
       "             children    smoker        NE        NW        SE        SW  \\\n",
       "age          0.042469 -0.025019  0.002475 -0.000407 -0.011642  0.010016   \n",
       "sex         -0.017163 -0.076185  0.002425  0.011156 -0.017117  0.004184   \n",
       "Normal       0.008390  0.023655  0.086845  0.039045 -0.091009 -0.031356   \n",
       "Obese        0.009807  0.000810 -0.098564 -0.082849  0.170445  0.004433   \n",
       "Overweight  -0.016285 -0.023087  0.018452  0.051859 -0.091820  0.024993   \n",
       "Underweight -0.004956  0.010424  0.068987  0.026629 -0.077195 -0.015437   \n",
       "children     1.000000  0.007673 -0.022808  0.024806 -0.023066  0.021914   \n",
       "smoker       0.007673  1.000000  0.002811 -0.036945  0.068498 -0.036945   \n",
       "NE          -0.022808  0.002811  1.000000 -0.320177 -0.345561 -0.320177   \n",
       "NW           0.024806 -0.036945 -0.320177  1.000000 -0.346265 -0.320829   \n",
       "SE          -0.023066  0.068498 -0.345561 -0.346265  1.000000 -0.346265   \n",
       "SW           0.021914 -0.036945 -0.320177 -0.320829 -0.346265  1.000000   \n",
       "expenses     0.067998  0.787251  0.006349 -0.039905  0.073982 -0.043210   \n",
       "\n",
       "             expenses  \n",
       "age          0.299008  \n",
       "sex         -0.057292  \n",
       "Normal      -0.105291  \n",
       "Obese        0.199532  \n",
       "Overweight  -0.120075  \n",
       "Underweight -0.048117  \n",
       "children     0.067998  \n",
       "smoker       0.787251  \n",
       "NE           0.006349  \n",
       "NW          -0.039905  \n",
       "SE           0.073982  \n",
       "SW          -0.043210  \n",
       "expenses     1.000000  "
      ]
     },
     "execution_count": 18,
     "metadata": {},
     "output_type": "execute_result"
    }
   ],
   "source": [
    "data.corr()"
   ]
  },
  {
   "cell_type": "markdown",
   "id": "730ce0d9",
   "metadata": {},
   "source": [
    " "
   ]
  },
  {
   "cell_type": "markdown",
   "id": "d162d462",
   "metadata": {},
   "source": [
    "### Plot Features vs 'expenses'"
   ]
  },
  {
   "cell_type": "code",
   "execution_count": 19,
   "id": "21f3ef31",
   "metadata": {},
   "outputs": [],
   "source": [
    "def numerical(num):\n",
    "    sns.scatterplot(x=data[num], y = data['expenses'])\n",
    "    plt.xlabel(num)\n",
    "    plt.ylabel('Expenses')\n",
    "    plt.title('{n} vs Expenses'.format(n = num))\n",
    "    plt.show()"
   ]
  },
  {
   "cell_type": "code",
   "execution_count": 20,
   "id": "d4f4239a",
   "metadata": {},
   "outputs": [],
   "source": [
    " def categorical(depen_var):\n",
    "        fig, axes = plt.subplots(1, 2, sharex=True, figsize=(12,8))\n",
    "        fig.suptitle('{c} vs {n}'.format(c = depen_var.upper(), n = 'Expenses'))\n",
    "        \n",
    "        sns.boxplot(ax=axes[0], x = data[depen_var], y = data['expenses'])\n",
    "        axes[0].set_title('Boxplot')\n",
    "\n",
    "        sns.barplot(ax=axes[1],  x = data[depen_var], y = data['expenses'])\n",
    "        axes[1].set_title('Bar Chart')\n",
    "\n",
    "        plt.show()"
   ]
  },
  {
   "cell_type": "code",
   "execution_count": null,
   "id": "a422e85a",
   "metadata": {},
   "outputs": [],
   "source": []
  },
  {
   "cell_type": "code",
   "execution_count": 21,
   "id": "5bbdb424",
   "metadata": {},
   "outputs": [
    {
     "data": {
      "image/png": "[encoded data removed]",
      "text/plain": [
       "<Figure size 432x288 with 1 Axes>"
      ]
     },
     "metadata": {
      "needs_background": "light"
     },
     "output_type": "display_data"
    },
    {
     "data": {
      "image/png": "[encoded data removed]",
      "text/plain": [
       "<Figure size 864x576 with 2 Axes>"
      ]
     },
     "metadata": {
      "needs_background": "light"
     },
     "output_type": "display_data"
    },
    {
     "data": {
      "image/png": "[encoded data removed]",
      "text/plain": [
       "<Figure size 864x576 with 2 Axes>"
      ]
     },
     "metadata": {
      "needs_background": "light"
     },
     "output_type": "display_data"
    },
    {
     "data": {
      "image/png": "[encoded data removed]",
      "text/plain": [
       "<Figure size 864x576 with 2 Axes>"
      ]
     },
     "metadata": {
      "needs_background": "light"
     },
     "output_type": "display_data"
    },
    {
     "data": {
      "image/png": "[encoded data removed]",
      "text/plain": [
       "<Figure size 864x576 with 2 Axes>"
      ]
     },
     "metadata": {
      "needs_background": "light"
     },
     "output_type": "display_data"
    },
    {
     "data": {
      "image/png": "[encoded data removed]",
      "text/plain": [
       "<Figure size 864x576 with 2 Axes>"
      ]
     },
     "metadata": {
      "needs_background": "light"
     },
     "output_type": "display_data"
    },
    {
     "data": {
      "image/png": "[encoded data removed]",
      "text/plain": [
       "<Figure size 864x576 with 2 Axes>"
      ]
     },
     "metadata": {
      "needs_background": "light"
     },
     "output_type": "display_data"
    },
    {
     "data": {
      "image/png": "[encoded data removed]",
      "text/plain": [
       "<Figure size 864x576 with 2 Axes>"
      ]
     },
     "metadata": {
      "needs_background": "light"
     },
     "output_type": "display_data"
    },
    {
     "data": {
      "image/png": "[encoded data removed]",
      "text/plain": [
       "<Figure size 864x576 with 2 Axes>"
      ]
     },
     "metadata": {
      "needs_background": "light"
     },
     "output_type": "display_data"
    },
    {
     "data": {
      "image/png": "[encoded data removed]",
      "text/plain": [
       "<Figure size 864x576 with 2 Axes>"
      ]
     },
     "metadata": {
      "needs_background": "light"
     },
     "output_type": "display_data"
    },
    {
     "data": {
      "image/png": "[encoded data removed]",
      "text/plain": [
       "<Figure size 864x576 with 2 Axes>"
      ]
     },
     "metadata": {
      "needs_background": "light"
     },
     "output_type": "display_data"
    },
    {
     "data": {
      "image/png": "[encoded data removed]",
      "text/plain": [
       "<Figure size 864x576 with 2 Axes>"
      ]
     },
     "metadata": {
      "needs_background": "light"
     },
     "output_type": "display_data"
    },
    {
     "data": {
      "image/png": "[encoded data removed]",
      "text/plain": [
       "<Figure size 864x576 with 2 Axes>"
      ]
     },
     "metadata": {
      "needs_background": "light"
     },
     "output_type": "display_data"
    },
    {
     "data": {
      "image/png": "[encoded data removed]",
      "text/plain": [
       "<Figure size 864x576 with 2 Axes>"
      ]
     },
     "metadata": {
      "needs_background": "light"
     },
     "output_type": "display_data"
    }
   ],
   "source": [
    "for feature in data.columns:\n",
    "    if feature == 'expenses':\n",
    "        continue\n",
    "    elif feature in ['age', 'bmi']:\n",
    "        numerical(feature)\n",
    "    else:\n",
    "        categorical(feature)"
   ]
  },
  {
   "cell_type": "code",
   "execution_count": 22,
   "id": "92a25a85",
   "metadata": {},
   "outputs": [],
   "source": [
    "data.drop(columns = ['region', 'bmi_cat'], inplace=True)"
   ]
  },
  {
   "cell_type": "markdown",
   "id": "1602f1f5",
   "metadata": {},
   "source": [
    "### Data Standardization"
   ]
  },
  {
   "cell_type": "code",
   "execution_count": 24,
   "id": "6cda0f91",
   "metadata": {},
   "outputs": [],
   "source": [
    "scaler = RobustScaler()\n",
    "\n",
    "data[['age', 'children', 'expenses']] = scaler.fit_transform(data[['age', 'children', 'expenses']])"
   ]
  },
  {
   "cell_type": "markdown",
   "id": "ad03a084",
   "metadata": {},
   "source": [
    " "
   ]
  },
  {
   "cell_type": "markdown",
   "id": "3a440f99",
   "metadata": {},
   "source": [
    "## Model Building"
   ]
  },
  {
   "cell_type": "markdown",
   "id": "d2c66cf8",
   "metadata": {},
   "source": [
    "### train_test_split"
   ]
  },
  {
   "cell_type": "code",
   "execution_count": 65,
   "id": "1534004a",
   "metadata": {},
   "outputs": [],
   "source": [
    "y_data = data['expenses']\n",
    "x_data = data.iloc[:,:12]"
   ]
  },
  {
   "cell_type": "code",
   "execution_count": 66,
   "id": "32858f2d",
   "metadata": {},
   "outputs": [],
   "source": [
    "x_train, x_test, y_train, y_test = train_test_split(x_data, y_data, test_size=0.15)"
   ]
  },
  {
   "cell_type": "markdown",
   "id": "0dd00575",
   "metadata": {},
   "source": [
    " "
   ]
  },
  {
   "cell_type": "markdown",
   "id": "d81a9722",
   "metadata": {},
   "source": [
    "### Multiple Linear Regression"
   ]
  },
  {
   "cell_type": "code",
   "execution_count": 67,
   "id": "1e4343e1",
   "metadata": {},
   "outputs": [],
   "source": [
    "#regression object\n",
    "mlr = LinearRegression()\n",
    "\n",
    "#training the model\n",
    "mlr.fit(x_train, y_train)\n",
    "\n",
    "#predict values\n",
    "pred_mlr = mlr.predict(x_test)"
   ]
  },
  {
   "cell_type": "markdown",
   "id": "922b0e39",
   "metadata": {},
   "source": [
    " "
   ]
  },
  {
   "cell_type": "markdown",
   "id": "30f128dc",
   "metadata": {},
   "source": [
    "### Polynomial Regression"
   ]
  },
  {
   "cell_type": "code",
   "execution_count": 68,
   "id": "258fbfdd",
   "metadata": {},
   "outputs": [],
   "source": [
    "poly_reg = PolynomialFeatures(degree=2)\n",
    "x_poly_data  = poly_reg.fit_transform(x_data)\n",
    "x_poly_train, x_poly_test = train_test_split(x_poly_data, test_size = 0.15)\n",
    "\n",
    "\n",
    "lin_reg2 = LinearRegression()\n",
    "lin_reg2.fit(x_poly_train,y_train)\n",
    " \n",
    "pred_poly = lin_reg2.predict(x_poly_test)"
   ]
  },
  {
   "cell_type": "markdown",
   "id": "5ffd49f6",
   "metadata": {},
   "source": [
    " "
   ]
  },
  {
   "cell_type": "markdown",
   "id": "35527147",
   "metadata": {},
   "source": [
    "### Ridge Regression"
   ]
  },
  {
   "cell_type": "code",
   "execution_count": 69,
   "id": "332078bf",
   "metadata": {},
   "outputs": [],
   "source": [
    "RR = Ridge(alpha=0.01)\n",
    "\n",
    "RR.fit(x_poly_train, y_train)\n",
    "\n",
    "yhat_ridge = RR.predict(x_poly_test)"
   ]
  },
  {
   "cell_type": "markdown",
   "id": "34476a66",
   "metadata": {},
   "source": [
    " #### tune hyperparameters (alpha) for Ridge Regression\n"
   ]
  },
  {
   "cell_type": "code",
   "execution_count": 70,
   "id": "c732885b",
   "metadata": {},
   "outputs": [],
   "source": [
    "cv = RepeatedKFold(n_splits=10, n_repeats=3, random_state=1)"
   ]
  },
  {
   "cell_type": "code",
   "execution_count": 71,
   "id": "0e8b812a",
   "metadata": {},
   "outputs": [
    {
     "name": "stdout",
     "output_type": "stream",
     "text": [
      "Best Estimate for Hyper Parameter Tuning :  Ridge(alpha=0.01)\n"
     ]
    },
    {
     "data": {
      "text/plain": [
       "0"
      ]
     },
     "execution_count": 71,
     "metadata": {},
     "output_type": "execute_result"
    }
   ],
   "source": [
    "grid = dict()\n",
    "grid['alpha'] = [0.01, 0.03, 0.1, 0.3, 1]\n",
    "search = GridSearchCV(RR, grid, scoring='neg_mean_absolute_error', cv=cv, n_jobs=-1)\n",
    "results=search.fit(x_data, y_data)\n",
    "print('Best Estimate for Hyper Parameter Tuning : ', str(results.best_estimator_))\n",
    "\n",
    "best_alpha_str = str(results.best_estimator_)\n",
    "best_alpha = int(re.findall('\\d', best_alpha_str)[0])\n",
    "best_alpha"
   ]
  },
  {
   "cell_type": "code",
   "execution_count": 72,
   "id": "3c99cc94",
   "metadata": {},
   "outputs": [],
   "source": [
    "#final Ridge Regression model:\n",
    "\n",
    "RR = Ridge(alpha = best_alpha)\n",
    "RR.fit(x_poly_train, y_train)\n",
    "pred_ridge = RR.predict(x_poly_test)"
   ]
  },
  {
   "cell_type": "markdown",
   "id": "7fccdd5f",
   "metadata": {},
   "source": [
    " "
   ]
  },
  {
   "cell_type": "markdown",
   "id": "1fa3acfc",
   "metadata": {},
   "source": [
    "### Decision Tree Regressor"
   ]
  },
  {
   "cell_type": "code",
   "execution_count": 73,
   "id": "3d08c9d4",
   "metadata": {},
   "outputs": [],
   "source": [
    "from sklearn.tree import DecisionTreeRegressor"
   ]
  },
  {
   "cell_type": "code",
   "execution_count": 74,
   "id": "e65809db",
   "metadata": {},
   "outputs": [],
   "source": [
    "dec_tree_reg = DecisionTreeRegressor(max_depth=5, random_state=13)  \n",
    "dec_tree_reg.fit(x_train, y_train) \n",
    "pred_dec_tree = dec_tree_reg.predict(x_test)"
   ]
  },
  {
   "cell_type": "markdown",
   "id": "ac83b9f8",
   "metadata": {},
   "source": [
    " "
   ]
  },
  {
   "cell_type": "markdown",
   "id": "06ed291a",
   "metadata": {},
   "source": [
    "### Random Forest Regressor"
   ]
  },
  {
   "cell_type": "code",
   "execution_count": 75,
   "id": "a051d23d",
   "metadata": {},
   "outputs": [],
   "source": [
    "from sklearn.ensemble import RandomForestRegressor"
   ]
  },
  {
   "cell_type": "code",
   "execution_count": 76,
   "id": "3b1ce08a",
   "metadata": {},
   "outputs": [],
   "source": [
    "rand_forr_reg = RandomForestRegressor(n_estimators=400, max_depth=5, random_state=13)  \n",
    "rand_forr_reg.fit(x_train, y_train)\n",
    "pred_rand_forr = rand_forr_reg.predict(x_test)"
   ]
  },
  {
   "cell_type": "markdown",
   "id": "8ca165c2",
   "metadata": {},
   "source": [
    " "
   ]
  },
  {
   "cell_type": "markdown",
   "id": "a9428664",
   "metadata": {},
   "source": [
    "## Evaluation Metrics"
   ]
  },
  {
   "cell_type": "code",
   "execution_count": 77,
   "id": "6bf5a3f1",
   "metadata": {},
   "outputs": [],
   "source": [
    "def evaluate(estimator, pred_val):\n",
    "    if estimator == lin_reg2:\n",
    "        x = PolynomialFeatures(degree=2).fit_transform(x_data)\n",
    "    else:\n",
    "        x = x_data\n",
    "    r2 = r2_score(y_test, pred_val)\n",
    "    rmse = np.sqrt(mean_squared_error(y_test, pred_val))\n",
    "    score = cross_val_score(estimator, x, y_data, cv=4).mean()\n",
    "    return r2, rmse, score"
   ]
  },
  {
   "cell_type": "markdown",
   "id": "534c4400",
   "metadata": {},
   "source": [
    " "
   ]
  },
  {
   "cell_type": "code",
   "execution_count": 78,
   "id": "22599135",
   "metadata": {},
   "outputs": [
    {
     "name": "stdout",
     "output_type": "stream",
     "text": [
      "0.763242440985828 0.5509370234058084 0.7481865843070918\n"
     ]
    }
   ],
   "source": [
    "#Multpiple Linear Regression\n",
    "mlr_r2, mlr_rmse, mlr_cvscore = evaluate(mlr, pred_mlr)\n",
    "print(mlr_r2, mlr_rmse, mlr_cvscore)"
   ]
  },
  {
   "cell_type": "code",
   "execution_count": 79,
   "id": "4760dbdb",
   "metadata": {},
   "outputs": [
    {
     "name": "stdout",
     "output_type": "stream",
     "text": [
      "-0.05743202832296124 1.164330466755147 0.8541359552530446\n"
     ]
    }
   ],
   "source": [
    "#Polynomial Regression\n",
    "poly_r2, poly_rmse, poly_cvscore = evaluate(lin_reg2, pred_poly)\n",
    "print(poly_r2, poly_rmse, poly_cvscore)"
   ]
  },
  {
   "cell_type": "code",
   "execution_count": 80,
   "id": "ee4b25f7",
   "metadata": {},
   "outputs": [
    {
     "name": "stdout",
     "output_type": "stream",
     "text": [
      "-0.2429412206577859 1.2623370438977448 0.7494351192737545\n"
     ]
    }
   ],
   "source": [
    "#Ridge Regression\n",
    "ridge_r2, ridge_rmse, ridge_cvscore = evaluate(RR, pred_ridge)\n",
    "print(ridge_r2, ridge_rmse, ridge_cvscore)"
   ]
  },
  {
   "cell_type": "code",
   "execution_count": 81,
   "id": "4e901a6b",
   "metadata": {},
   "outputs": [
    {
     "name": "stdout",
     "output_type": "stream",
     "text": [
      "0.8907211542744734 0.37429849506573104 0.8355546691379488\n"
     ]
    }
   ],
   "source": [
    "#Decision Tree Regressor\n",
    "dec_tree_r2, dec_tree_rmse, dec_tree_cvscore = evaluate(dec_tree_reg, pred_dec_tree)\n",
    "print(dec_tree_r2, dec_tree_rmse, dec_tree_cvscore)"
   ]
  },
  {
   "cell_type": "code",
   "execution_count": 82,
   "id": "6a2e796c",
   "metadata": {},
   "outputs": [
    {
     "name": "stdout",
     "output_type": "stream",
     "text": [
      "0.8911007714545209 0.3736478030098353 0.8524817302857531\n"
     ]
    }
   ],
   "source": [
    "#Random Forest Regressor\n",
    "ran_r2, ran_rmse, ran_cvscore = evaluate(rand_forr_reg, pred_rand_forr)\n",
    "print(ran_r2, ran_rmse, ran_cvscore)"
   ]
  },
  {
   "cell_type": "markdown",
   "id": "65c19287",
   "metadata": {},
   "source": [
    " "
   ]
  },
  {
   "cell_type": "markdown",
   "id": "5c7c95c6",
   "metadata": {},
   "source": [
    "### Comparing Model perfomances"
   ]
  },
  {
   "cell_type": "code",
   "execution_count": 83,
   "id": "d0b31583",
   "metadata": {},
   "outputs": [],
   "source": [
    "r2_scores = [mlr_r2, poly_r2, ridge_r2, dec_tree_r2, ran_r2]\n",
    "rmse_scores = [mlr_rmse, poly_rmse, ridge_rmse, dec_tree_rmse, ran_rmse]\n",
    "cross_val_scores  = [mlr_cvscore, poly_cvscore, ridge_cvscore, dec_tree_cvscore, ran_cvscore]"
   ]
  },
  {
   "cell_type": "code",
   "execution_count": 84,
   "id": "a597cad7",
   "metadata": {},
   "outputs": [],
   "source": [
    "models_comparison = pd.DataFrame([r2_scores, rmse_scores, cross_val_scores], \n",
    "                                 columns = ['Multiple Linear Regression', 'Polynomial Regression', 'Ridge Regression', \n",
    "                                          'Decision Tree Regressor', 'Random Forest Regressor'],\n",
    "                                 index = ['R2 score', 'RMSE score', 'Cross Validation Score'])"
   ]
  },
  {
   "cell_type": "code",
   "execution_count": 85,
   "id": "106e4e4c",
   "metadata": {},
   "outputs": [
    {
     "data": {
      "text/html": [
       "<div>\n",
       "<style scoped>\n",
       "    .dataframe tbody tr th:only-of-type {\n",
       "        vertical-align: middle;\n",
       "    }\n",
       "\n",
       "    .dataframe tbody tr th {\n",
       "        vertical-align: top;\n",
       "    }\n",
       "\n",
       "    .dataframe thead th {\n",
       "        text-align: right;\n",
       "    }\n",
       "</style>\n",
       "<table border=\"1\" class=\"dataframe\">\n",
       "  <thead>\n",
       "    <tr style=\"text-align: right;\">\n",
       "      <th></th>\n",
       "      <th>Multiple Linear Regression</th>\n",
       "      <th>Polynomial Regression</th>\n",
       "      <th>Ridge Regression</th>\n",
       "      <th>Decision Tree Regressor</th>\n",
       "      <th>Random Forest Regressor</th>\n",
       "    </tr>\n",
       "  </thead>\n",
       "  <tbody>\n",
       "    <tr>\n",
       "      <th>R2 score</th>\n",
       "      <td>0.763242</td>\n",
       "      <td>-0.057432</td>\n",
       "      <td>-0.242941</td>\n",
       "      <td>0.890721</td>\n",
       "      <td>0.891101</td>\n",
       "    </tr>\n",
       "    <tr>\n",
       "      <th>RMSE score</th>\n",
       "      <td>0.550937</td>\n",
       "      <td>1.164330</td>\n",
       "      <td>1.262337</td>\n",
       "      <td>0.374298</td>\n",
       "      <td>0.373648</td>\n",
       "    </tr>\n",
       "    <tr>\n",
       "      <th>Cross Validation Score</th>\n",
       "      <td>0.748187</td>\n",
       "      <td>0.854136</td>\n",
       "      <td>0.749435</td>\n",
       "      <td>0.835555</td>\n",
       "      <td>0.852482</td>\n",
       "    </tr>\n",
       "  </tbody>\n",
       "</table>\n",
       "</div>"
      ],
      "text/plain": [
       "                        Multiple Linear Regression  Polynomial Regression  \\\n",
       "R2 score                                  0.763242              -0.057432   \n",
       "RMSE score                                0.550937               1.164330   \n",
       "Cross Validation Score                    0.748187               0.854136   \n",
       "\n",
       "                        Ridge Regression  Decision Tree Regressor  \\\n",
       "R2 score                       -0.242941                 0.890721   \n",
       "RMSE score                      1.262337                 0.374298   \n",
       "Cross Validation Score          0.749435                 0.835555   \n",
       "\n",
       "                        Random Forest Regressor  \n",
       "R2 score                               0.891101  \n",
       "RMSE score                             0.373648  \n",
       "Cross Validation Score                 0.852482  "
      ]
     },
     "execution_count": 85,
     "metadata": {},
     "output_type": "execute_result"
    }
   ],
   "source": [
    "models_comparison"
   ]
  },
  {
   "cell_type": "markdown",
   "id": "af63c27a",
   "metadata": {},
   "source": [
    " "
   ]
  },
  {
   "cell_type": "markdown",
   "id": "b8b466b0",
   "metadata": {},
   "source": [
    " #### Polynomial Regression and Random Forest Regressor fits to the model the best "
   ]
  },
  {
   "cell_type": "code",
   "execution_count": 86,
   "id": "686466b7",
   "metadata": {},
   "outputs": [
    {
     "data": {
      "text/plain": [
       "RandomForestRegressor(max_depth=5, n_estimators=400, random_state=13)"
      ]
     },
     "execution_count": 86,
     "metadata": {},
     "output_type": "execute_result"
    }
   ],
   "source": [
    "#training the model with all data available\n",
    "lin_reg2.fit(x_data, y_data)\n",
    "rand_forr_reg.fit(x_data, y_data)"
   ]
  },
  {
   "cell_type": "markdown",
   "id": "3d37f22f",
   "metadata": {},
   "source": [
    " \n",
    " "
   ]
  },
  {
   "cell_type": "markdown",
   "id": "ae52fe4b",
   "metadata": {},
   "source": [
    "## Overfitting/Underfitting"
   ]
  },
  {
   "cell_type": "code",
   "execution_count": 87,
   "id": "b995005c",
   "metadata": {},
   "outputs": [],
   "source": [
    "y_pred = lin_reg2.predict(x_data)\n",
    "y_pred2 = rand_forr_reg.predict(x_data)"
   ]
  },
  {
   "cell_type": "markdown",
   "id": "b27a09d5",
   "metadata": {},
   "source": [
    "#### Residual Plot and Scatterplot"
   ]
  },
  {
   "cell_type": "code",
   "execution_count": 88,
   "id": "0241e26e",
   "metadata": {},
   "outputs": [],
   "source": [
    "def evaluate_model_vis(sns_fun):\n",
    "    fig, axes = plt.subplots(1,2, figsize=(10,5))\n",
    "    #fig.title('Polynomial Regression vs Random Forest Regression perfomance')\n",
    "    \n",
    "    sns_fun(ax=axes[0], x=y_pred, y=y_data)\n",
    "    axes[0].set_title('Polynomial Regressor')\n",
    "    plt.xlabel('predicted values')\n",
    "    plt.ylabel('actual values')\n",
    "    \n",
    "    sns_fun(ax=axes[1], x=y_pred2, y=y_data)\n",
    "    axes[1].set_title('Random Forest Regressor')\n",
    "    plt.xlabel('predicted values')\n",
    "    plt.ylabel('actual values')\n",
    "    \n",
    "    plt.show()"
   ]
  },
  {
   "cell_type": "code",
   "execution_count": 89,
   "id": "65c5a67f",
   "metadata": {},
   "outputs": [
    {
     "data": {
      "image/png": "[encoded data removed]",
      "text/plain": [
       "<Figure size 720x360 with 2 Axes>"
      ]
     },
     "metadata": {
      "needs_background": "light"
     },
     "output_type": "display_data"
    }
   ],
   "source": [
    "evaluate_model_vis(sns.residplot)"
   ]
  },
  {
   "cell_type": "code",
   "execution_count": 90,
   "id": "76bc6276",
   "metadata": {},
   "outputs": [
    {
     "data": {
      "image/png": "[encoded data removed]",
      "text/plain": [
       "<Figure size 720x360 with 2 Axes>"
      ]
     },
     "metadata": {
      "needs_background": "light"
     },
     "output_type": "display_data"
    }
   ],
   "source": [
    "evaluate_model_vis(sns.scatterplot)"
   ]
  },
  {
   "cell_type": "markdown",
   "id": "d5386eaf",
   "metadata": {},
   "source": [
    "#### histogram"
   ]
  },
  {
   "cell_type": "code",
   "execution_count": 91,
   "id": "f9f975f8",
   "metadata": {},
   "outputs": [
    {
     "data": {
      "image/png": "[encoded data removed]",
      "text/plain": [
       "<Figure size 432x288 with 1 Axes>"
      ]
     },
     "metadata": {
      "needs_background": "light"
     },
     "output_type": "display_data"
    },
    {
     "data": {
      "image/png": "[encoded data removed]",
      "text/plain": [
       "<Figure size 432x288 with 1 Axes>"
      ]
     },
     "metadata": {
      "needs_background": "light"
     },
     "output_type": "display_data"
    }
   ],
   "source": [
    "a1= sns.histplot(y_data, color = 'palegreen')\n",
    "a2= sns.histplot(y_pred,   color = 'peachpuff', ax=a1)\n",
    "plt.title('Polynomial Regression')\n",
    "plt.show()\n",
    "\n",
    "a1= sns.histplot(y_data, color = 'palegreen')\n",
    "a2= sns.histplot(y_pred2,   color = 'peachpuff', ax=a1)\n",
    "plt.title('Random Forest Regressor')\n",
    "plt.show()"
   ]
  },
  {
   "cell_type": "markdown",
   "id": "306cba1d",
   "metadata": {},
   "source": [
    "the underfitting is due to noise in data.<br><br>\n",
    "It seems that Random Forest Regressor fits the data best and so, we will use <b>Random Forest Regressor </b>for our application\n"
   ]
  },
  {
   "cell_type": "markdown",
   "id": "4a21fd14",
   "metadata": {},
   "source": [
    " "
   ]
  },
  {
   "cell_type": "markdown",
   "id": "b33693ff",
   "metadata": {},
   "source": [
    "### final model"
   ]
  },
  {
   "cell_type": "code",
   "execution_count": 92,
   "id": "4c921ed0",
   "metadata": {},
   "outputs": [
    {
     "data": {
      "text/plain": [
       "RandomForestRegressor(max_depth=5, n_estimators=400, random_state=13)"
      ]
     },
     "execution_count": 92,
     "metadata": {},
     "output_type": "execute_result"
    }
   ],
   "source": [
    "rand_forr_reg.fit(x_data, y_data)"
   ]
  },
  {
   "cell_type": "markdown",
   "id": "64a6b657",
   "metadata": {},
   "source": [
    " "
   ]
  },
  {
   "cell_type": "markdown",
   "id": "34a8f316",
   "metadata": {},
   "source": [
    "## Model Serialization"
   ]
  },
  {
   "cell_type": "code",
   "execution_count": 93,
   "id": "6eef8557",
   "metadata": {},
   "outputs": [],
   "source": [
    "# Save the Modle to file in the current working directory\n",
    "\n",
    "Pkl_Filename = \"insurance_premium_prediction_model.pkl\"  \n",
    "with open(Pkl_Filename, 'wb') as file:  \n",
    "    pickle.dump(rand_forr_reg, file)"
   ]
  },
  {
   "cell_type": "code",
   "execution_count": 94,
   "id": "09a0ed74",
   "metadata": {},
   "outputs": [],
   "source": [
    "# Load the Model back from file\n",
    "with open('insurance_premium_prediction_model.pkl', 'rb') as file:  \n",
    "    model = pickle.load(file)\n",
    "\n",
    "#use model.predict(vec) for predicting values"
   ]
  },
  {
   "cell_type": "markdown",
   "id": "8abfe650",
   "metadata": {},
   "source": [
    " "
   ]
  },
  {
   "cell_type": "markdown",
   "id": "172f0488",
   "metadata": {},
   "source": [
    "## Deploy"
   ]
  },
  {
   "cell_type": "code",
   "execution_count": null,
   "id": "a13ea5ef",
   "metadata": {},
   "outputs": [],
   "source": []
  },
  {
   "cell_type": "code",
   "execution_count": null,
   "id": "81c3cfd2",
   "metadata": {},
   "outputs": [],
   "source": []
  },
  {
   "cell_type": "code",
   "execution_count": null,
   "id": "b0a9a8a3",
   "metadata": {},
   "outputs": [],
   "source": []
  },
  {
   "cell_type": "code",
   "execution_count": null,
   "id": "a114637a",
   "metadata": {},
   "outputs": [],
   "source": []
  },
  {
   "cell_type": "code",
   "execution_count": null,
   "id": "dff57d9f",
   "metadata": {},
   "outputs": [],
   "source": []
  },
  {
   "cell_type": "code",
   "execution_count": null,
   "id": "37f69bf2",
   "metadata": {},
   "outputs": [],
   "source": []
  },
  {
   "cell_type": "markdown",
   "id": "54db3fd9",
   "metadata": {},
   "source": [
    "## input for predicting single output "
   ]
  },
  {
   "cell_type": "code",
   "execution_count": 95,
   "id": "6aec0bbe",
   "metadata": {},
   "outputs": [],
   "source": [
    "dd = pd.read_csv('insurance.csv')"
   ]
  },
  {
   "cell_type": "code",
   "execution_count": 96,
   "id": "05b50173",
   "metadata": {},
   "outputs": [
    {
     "data": {
      "text/html": [
       "<div>\n",
       "<style scoped>\n",
       "    .dataframe tbody tr th:only-of-type {\n",
       "        vertical-align: middle;\n",
       "    }\n",
       "\n",
       "    .dataframe tbody tr th {\n",
       "        vertical-align: top;\n",
       "    }\n",
       "\n",
       "    .dataframe thead th {\n",
       "        text-align: right;\n",
       "    }\n",
       "</style>\n",
       "<table border=\"1\" class=\"dataframe\">\n",
       "  <thead>\n",
       "    <tr style=\"text-align: right;\">\n",
       "      <th></th>\n",
       "      <th>age</th>\n",
       "      <th>sex</th>\n",
       "      <th>bmi</th>\n",
       "      <th>children</th>\n",
       "      <th>smoker</th>\n",
       "      <th>region</th>\n",
       "      <th>expenses</th>\n",
       "    </tr>\n",
       "  </thead>\n",
       "  <tbody>\n",
       "    <tr>\n",
       "      <th>0</th>\n",
       "      <td>19</td>\n",
       "      <td>female</td>\n",
       "      <td>27.9</td>\n",
       "      <td>0</td>\n",
       "      <td>yes</td>\n",
       "      <td>southwest</td>\n",
       "      <td>16884.92</td>\n",
       "    </tr>\n",
       "    <tr>\n",
       "      <th>1</th>\n",
       "      <td>18</td>\n",
       "      <td>male</td>\n",
       "      <td>33.8</td>\n",
       "      <td>1</td>\n",
       "      <td>no</td>\n",
       "      <td>southeast</td>\n",
       "      <td>1725.55</td>\n",
       "    </tr>\n",
       "    <tr>\n",
       "      <th>2</th>\n",
       "      <td>28</td>\n",
       "      <td>male</td>\n",
       "      <td>33.0</td>\n",
       "      <td>3</td>\n",
       "      <td>no</td>\n",
       "      <td>southeast</td>\n",
       "      <td>4449.46</td>\n",
       "    </tr>\n",
       "    <tr>\n",
       "      <th>3</th>\n",
       "      <td>33</td>\n",
       "      <td>male</td>\n",
       "      <td>22.7</td>\n",
       "      <td>0</td>\n",
       "      <td>no</td>\n",
       "      <td>northwest</td>\n",
       "      <td>21984.47</td>\n",
       "    </tr>\n",
       "    <tr>\n",
       "      <th>4</th>\n",
       "      <td>32</td>\n",
       "      <td>male</td>\n",
       "      <td>28.9</td>\n",
       "      <td>0</td>\n",
       "      <td>no</td>\n",
       "      <td>northwest</td>\n",
       "      <td>3866.86</td>\n",
       "    </tr>\n",
       "    <tr>\n",
       "      <th>...</th>\n",
       "      <td>...</td>\n",
       "      <td>...</td>\n",
       "      <td>...</td>\n",
       "      <td>...</td>\n",
       "      <td>...</td>\n",
       "      <td>...</td>\n",
       "      <td>...</td>\n",
       "    </tr>\n",
       "    <tr>\n",
       "      <th>1333</th>\n",
       "      <td>50</td>\n",
       "      <td>male</td>\n",
       "      <td>31.0</td>\n",
       "      <td>3</td>\n",
       "      <td>no</td>\n",
       "      <td>northwest</td>\n",
       "      <td>10600.55</td>\n",
       "    </tr>\n",
       "    <tr>\n",
       "      <th>1334</th>\n",
       "      <td>18</td>\n",
       "      <td>female</td>\n",
       "      <td>31.9</td>\n",
       "      <td>0</td>\n",
       "      <td>no</td>\n",
       "      <td>northeast</td>\n",
       "      <td>2205.98</td>\n",
       "    </tr>\n",
       "    <tr>\n",
       "      <th>1335</th>\n",
       "      <td>18</td>\n",
       "      <td>female</td>\n",
       "      <td>36.9</td>\n",
       "      <td>0</td>\n",
       "      <td>no</td>\n",
       "      <td>southeast</td>\n",
       "      <td>1629.83</td>\n",
       "    </tr>\n",
       "    <tr>\n",
       "      <th>1336</th>\n",
       "      <td>21</td>\n",
       "      <td>female</td>\n",
       "      <td>25.8</td>\n",
       "      <td>0</td>\n",
       "      <td>no</td>\n",
       "      <td>southwest</td>\n",
       "      <td>2007.95</td>\n",
       "    </tr>\n",
       "    <tr>\n",
       "      <th>1337</th>\n",
       "      <td>61</td>\n",
       "      <td>female</td>\n",
       "      <td>29.1</td>\n",
       "      <td>0</td>\n",
       "      <td>yes</td>\n",
       "      <td>northwest</td>\n",
       "      <td>29141.36</td>\n",
       "    </tr>\n",
       "  </tbody>\n",
       "</table>\n",
       "<p>1338 rows × 7 columns</p>\n",
       "</div>"
      ],
      "text/plain": [
       "      age     sex   bmi  children smoker     region  expenses\n",
       "0      19  female  27.9         0    yes  southwest  16884.92\n",
       "1      18    male  33.8         1     no  southeast   1725.55\n",
       "2      28    male  33.0         3     no  southeast   4449.46\n",
       "3      33    male  22.7         0     no  northwest  21984.47\n",
       "4      32    male  28.9         0     no  northwest   3866.86\n",
       "...   ...     ...   ...       ...    ...        ...       ...\n",
       "1333   50    male  31.0         3     no  northwest  10600.55\n",
       "1334   18  female  31.9         0     no  northeast   2205.98\n",
       "1335   18  female  36.9         0     no  southeast   1629.83\n",
       "1336   21  female  25.8         0     no  southwest   2007.95\n",
       "1337   61  female  29.1         0    yes  northwest  29141.36\n",
       "\n",
       "[1338 rows x 7 columns]"
      ]
     },
     "execution_count": 96,
     "metadata": {},
     "output_type": "execute_result"
    }
   ],
   "source": [
    "dd"
   ]
  },
  {
   "cell_type": "code",
   "execution_count": 97,
   "id": "6c6cf2ce",
   "metadata": {},
   "outputs": [
    {
     "data": {
      "text/html": [
       "<div>\n",
       "<style scoped>\n",
       "    .dataframe tbody tr th:only-of-type {\n",
       "        vertical-align: middle;\n",
       "    }\n",
       "\n",
       "    .dataframe tbody tr th {\n",
       "        vertical-align: top;\n",
       "    }\n",
       "\n",
       "    .dataframe thead th {\n",
       "        text-align: right;\n",
       "    }\n",
       "</style>\n",
       "<table border=\"1\" class=\"dataframe\">\n",
       "  <thead>\n",
       "    <tr style=\"text-align: right;\">\n",
       "      <th></th>\n",
       "      <th>age</th>\n",
       "      <th>sex</th>\n",
       "      <th>Normal</th>\n",
       "      <th>Obese</th>\n",
       "      <th>Overweight</th>\n",
       "      <th>Underweight</th>\n",
       "      <th>children</th>\n",
       "      <th>smoker</th>\n",
       "      <th>NE</th>\n",
       "      <th>NW</th>\n",
       "      <th>SE</th>\n",
       "      <th>SW</th>\n",
       "      <th>expenses</th>\n",
       "    </tr>\n",
       "  </thead>\n",
       "  <tbody>\n",
       "    <tr>\n",
       "      <th>0</th>\n",
       "      <td>-0.833333</td>\n",
       "      <td>1.0</td>\n",
       "      <td>0.0</td>\n",
       "      <td>0.0</td>\n",
       "      <td>1.0</td>\n",
       "      <td>0.0</td>\n",
       "      <td>-0.5</td>\n",
       "      <td>1</td>\n",
       "      <td>0.0</td>\n",
       "      <td>0.0</td>\n",
       "      <td>0.0</td>\n",
       "      <td>1.0</td>\n",
       "      <td>0.630515</td>\n",
       "    </tr>\n",
       "    <tr>\n",
       "      <th>1</th>\n",
       "      <td>-0.875000</td>\n",
       "      <td>0.0</td>\n",
       "      <td>0.0</td>\n",
       "      <td>1.0</td>\n",
       "      <td>0.0</td>\n",
       "      <td>0.0</td>\n",
       "      <td>0.0</td>\n",
       "      <td>0</td>\n",
       "      <td>0.0</td>\n",
       "      <td>0.0</td>\n",
       "      <td>1.0</td>\n",
       "      <td>0.0</td>\n",
       "      <td>-0.643422</td>\n",
       "    </tr>\n",
       "    <tr>\n",
       "      <th>2</th>\n",
       "      <td>-0.458333</td>\n",
       "      <td>0.0</td>\n",
       "      <td>0.0</td>\n",
       "      <td>1.0</td>\n",
       "      <td>0.0</td>\n",
       "      <td>0.0</td>\n",
       "      <td>1.0</td>\n",
       "      <td>0</td>\n",
       "      <td>0.0</td>\n",
       "      <td>0.0</td>\n",
       "      <td>1.0</td>\n",
       "      <td>0.0</td>\n",
       "      <td>-0.414515</td>\n",
       "    </tr>\n",
       "    <tr>\n",
       "      <th>3</th>\n",
       "      <td>-0.250000</td>\n",
       "      <td>0.0</td>\n",
       "      <td>1.0</td>\n",
       "      <td>0.0</td>\n",
       "      <td>0.0</td>\n",
       "      <td>0.0</td>\n",
       "      <td>-0.5</td>\n",
       "      <td>0</td>\n",
       "      <td>0.0</td>\n",
       "      <td>1.0</td>\n",
       "      <td>0.0</td>\n",
       "      <td>0.0</td>\n",
       "      <td>1.059062</td>\n",
       "    </tr>\n",
       "    <tr>\n",
       "      <th>4</th>\n",
       "      <td>-0.291667</td>\n",
       "      <td>0.0</td>\n",
       "      <td>0.0</td>\n",
       "      <td>0.0</td>\n",
       "      <td>1.0</td>\n",
       "      <td>0.0</td>\n",
       "      <td>-0.5</td>\n",
       "      <td>0</td>\n",
       "      <td>0.0</td>\n",
       "      <td>1.0</td>\n",
       "      <td>0.0</td>\n",
       "      <td>0.0</td>\n",
       "      <td>-0.463474</td>\n",
       "    </tr>\n",
       "    <tr>\n",
       "      <th>...</th>\n",
       "      <td>...</td>\n",
       "      <td>...</td>\n",
       "      <td>...</td>\n",
       "      <td>...</td>\n",
       "      <td>...</td>\n",
       "      <td>...</td>\n",
       "      <td>...</td>\n",
       "      <td>...</td>\n",
       "      <td>...</td>\n",
       "      <td>...</td>\n",
       "      <td>...</td>\n",
       "      <td>...</td>\n",
       "      <td>...</td>\n",
       "    </tr>\n",
       "    <tr>\n",
       "      <th>1333</th>\n",
       "      <td>0.458333</td>\n",
       "      <td>0.0</td>\n",
       "      <td>0.0</td>\n",
       "      <td>1.0</td>\n",
       "      <td>0.0</td>\n",
       "      <td>0.0</td>\n",
       "      <td>1.0</td>\n",
       "      <td>0</td>\n",
       "      <td>0.0</td>\n",
       "      <td>1.0</td>\n",
       "      <td>0.0</td>\n",
       "      <td>0.0</td>\n",
       "      <td>0.102400</td>\n",
       "    </tr>\n",
       "    <tr>\n",
       "      <th>1334</th>\n",
       "      <td>-0.875000</td>\n",
       "      <td>1.0</td>\n",
       "      <td>0.0</td>\n",
       "      <td>1.0</td>\n",
       "      <td>0.0</td>\n",
       "      <td>0.0</td>\n",
       "      <td>-0.5</td>\n",
       "      <td>0</td>\n",
       "      <td>1.0</td>\n",
       "      <td>0.0</td>\n",
       "      <td>0.0</td>\n",
       "      <td>0.0</td>\n",
       "      <td>-0.603048</td>\n",
       "    </tr>\n",
       "    <tr>\n",
       "      <th>1335</th>\n",
       "      <td>-0.875000</td>\n",
       "      <td>1.0</td>\n",
       "      <td>0.0</td>\n",
       "      <td>1.0</td>\n",
       "      <td>0.0</td>\n",
       "      <td>0.0</td>\n",
       "      <td>-0.5</td>\n",
       "      <td>0</td>\n",
       "      <td>0.0</td>\n",
       "      <td>0.0</td>\n",
       "      <td>1.0</td>\n",
       "      <td>0.0</td>\n",
       "      <td>-0.651466</td>\n",
       "    </tr>\n",
       "    <tr>\n",
       "      <th>1336</th>\n",
       "      <td>-0.750000</td>\n",
       "      <td>1.0</td>\n",
       "      <td>0.0</td>\n",
       "      <td>0.0</td>\n",
       "      <td>1.0</td>\n",
       "      <td>0.0</td>\n",
       "      <td>-0.5</td>\n",
       "      <td>0</td>\n",
       "      <td>0.0</td>\n",
       "      <td>0.0</td>\n",
       "      <td>0.0</td>\n",
       "      <td>1.0</td>\n",
       "      <td>-0.619690</td>\n",
       "    </tr>\n",
       "    <tr>\n",
       "      <th>1337</th>\n",
       "      <td>0.916667</td>\n",
       "      <td>1.0</td>\n",
       "      <td>0.0</td>\n",
       "      <td>0.0</td>\n",
       "      <td>1.0</td>\n",
       "      <td>0.0</td>\n",
       "      <td>-0.5</td>\n",
       "      <td>1</td>\n",
       "      <td>0.0</td>\n",
       "      <td>1.0</td>\n",
       "      <td>0.0</td>\n",
       "      <td>0.0</td>\n",
       "      <td>1.660500</td>\n",
       "    </tr>\n",
       "  </tbody>\n",
       "</table>\n",
       "<p>1338 rows × 13 columns</p>\n",
       "</div>"
      ],
      "text/plain": [
       "           age  sex  Normal  Obese  Overweight  Underweight  children  smoker  \\\n",
       "0    -0.833333  1.0     0.0    0.0         1.0          0.0      -0.5       1   \n",
       "1    -0.875000  0.0     0.0    1.0         0.0          0.0       0.0       0   \n",
       "2    -0.458333  0.0     0.0    1.0         0.0          0.0       1.0       0   \n",
       "3    -0.250000  0.0     1.0    0.0         0.0          0.0      -0.5       0   \n",
       "4    -0.291667  0.0     0.0    0.0         1.0          0.0      -0.5       0   \n",
       "...        ...  ...     ...    ...         ...          ...       ...     ...   \n",
       "1333  0.458333  0.0     0.0    1.0         0.0          0.0       1.0       0   \n",
       "1334 -0.875000  1.0     0.0    1.0         0.0          0.0      -0.5       0   \n",
       "1335 -0.875000  1.0     0.0    1.0         0.0          0.0      -0.5       0   \n",
       "1336 -0.750000  1.0     0.0    0.0         1.0          0.0      -0.5       0   \n",
       "1337  0.916667  1.0     0.0    0.0         1.0          0.0      -0.5       1   \n",
       "\n",
       "       NE   NW   SE   SW  expenses  \n",
       "0     0.0  0.0  0.0  1.0  0.630515  \n",
       "1     0.0  0.0  1.0  0.0 -0.643422  \n",
       "2     0.0  0.0  1.0  0.0 -0.414515  \n",
       "3     0.0  1.0  0.0  0.0  1.059062  \n",
       "4     0.0  1.0  0.0  0.0 -0.463474  \n",
       "...   ...  ...  ...  ...       ...  \n",
       "1333  0.0  1.0  0.0  0.0  0.102400  \n",
       "1334  1.0  0.0  0.0  0.0 -0.603048  \n",
       "1335  0.0  0.0  1.0  0.0 -0.651466  \n",
       "1336  0.0  0.0  0.0  1.0 -0.619690  \n",
       "1337  0.0  1.0  0.0  0.0  1.660500  \n",
       "\n",
       "[1338 rows x 13 columns]"
      ]
     },
     "execution_count": 97,
     "metadata": {},
     "output_type": "execute_result"
    }
   ],
   "source": [
    "data"
   ]
  },
  {
   "cell_type": "code",
   "execution_count": 98,
   "id": "1c893bd1",
   "metadata": {},
   "outputs": [
    {
     "data": {
      "text/html": [
       "<div>\n",
       "<style scoped>\n",
       "    .dataframe tbody tr th:only-of-type {\n",
       "        vertical-align: middle;\n",
       "    }\n",
       "\n",
       "    .dataframe tbody tr th {\n",
       "        vertical-align: top;\n",
       "    }\n",
       "\n",
       "    .dataframe thead th {\n",
       "        text-align: right;\n",
       "    }\n",
       "</style>\n",
       "<table border=\"1\" class=\"dataframe\">\n",
       "  <thead>\n",
       "    <tr style=\"text-align: right;\">\n",
       "      <th></th>\n",
       "      <th>age</th>\n",
       "      <th>sex</th>\n",
       "      <th>Normal</th>\n",
       "      <th>Obese</th>\n",
       "      <th>Overweight</th>\n",
       "      <th>Underweight</th>\n",
       "      <th>children</th>\n",
       "      <th>smoker</th>\n",
       "      <th>NE</th>\n",
       "      <th>NW</th>\n",
       "      <th>SE</th>\n",
       "      <th>SW</th>\n",
       "    </tr>\n",
       "  </thead>\n",
       "  <tbody>\n",
       "    <tr>\n",
       "      <th>0</th>\n",
       "      <td>-0.833333</td>\n",
       "      <td>1.0</td>\n",
       "      <td>0.0</td>\n",
       "      <td>0.0</td>\n",
       "      <td>1.0</td>\n",
       "      <td>0.0</td>\n",
       "      <td>-0.5</td>\n",
       "      <td>1</td>\n",
       "      <td>0.0</td>\n",
       "      <td>0.0</td>\n",
       "      <td>0.0</td>\n",
       "      <td>1.0</td>\n",
       "    </tr>\n",
       "    <tr>\n",
       "      <th>1</th>\n",
       "      <td>-0.875000</td>\n",
       "      <td>0.0</td>\n",
       "      <td>0.0</td>\n",
       "      <td>1.0</td>\n",
       "      <td>0.0</td>\n",
       "      <td>0.0</td>\n",
       "      <td>0.0</td>\n",
       "      <td>0</td>\n",
       "      <td>0.0</td>\n",
       "      <td>0.0</td>\n",
       "      <td>1.0</td>\n",
       "      <td>0.0</td>\n",
       "    </tr>\n",
       "    <tr>\n",
       "      <th>2</th>\n",
       "      <td>-0.458333</td>\n",
       "      <td>0.0</td>\n",
       "      <td>0.0</td>\n",
       "      <td>1.0</td>\n",
       "      <td>0.0</td>\n",
       "      <td>0.0</td>\n",
       "      <td>1.0</td>\n",
       "      <td>0</td>\n",
       "      <td>0.0</td>\n",
       "      <td>0.0</td>\n",
       "      <td>1.0</td>\n",
       "      <td>0.0</td>\n",
       "    </tr>\n",
       "    <tr>\n",
       "      <th>3</th>\n",
       "      <td>-0.250000</td>\n",
       "      <td>0.0</td>\n",
       "      <td>1.0</td>\n",
       "      <td>0.0</td>\n",
       "      <td>0.0</td>\n",
       "      <td>0.0</td>\n",
       "      <td>-0.5</td>\n",
       "      <td>0</td>\n",
       "      <td>0.0</td>\n",
       "      <td>1.0</td>\n",
       "      <td>0.0</td>\n",
       "      <td>0.0</td>\n",
       "    </tr>\n",
       "    <tr>\n",
       "      <th>4</th>\n",
       "      <td>-0.291667</td>\n",
       "      <td>0.0</td>\n",
       "      <td>0.0</td>\n",
       "      <td>0.0</td>\n",
       "      <td>1.0</td>\n",
       "      <td>0.0</td>\n",
       "      <td>-0.5</td>\n",
       "      <td>0</td>\n",
       "      <td>0.0</td>\n",
       "      <td>1.0</td>\n",
       "      <td>0.0</td>\n",
       "      <td>0.0</td>\n",
       "    </tr>\n",
       "    <tr>\n",
       "      <th>...</th>\n",
       "      <td>...</td>\n",
       "      <td>...</td>\n",
       "      <td>...</td>\n",
       "      <td>...</td>\n",
       "      <td>...</td>\n",
       "      <td>...</td>\n",
       "      <td>...</td>\n",
       "      <td>...</td>\n",
       "      <td>...</td>\n",
       "      <td>...</td>\n",
       "      <td>...</td>\n",
       "      <td>...</td>\n",
       "    </tr>\n",
       "    <tr>\n",
       "      <th>1333</th>\n",
       "      <td>0.458333</td>\n",
       "      <td>0.0</td>\n",
       "      <td>0.0</td>\n",
       "      <td>1.0</td>\n",
       "      <td>0.0</td>\n",
       "      <td>0.0</td>\n",
       "      <td>1.0</td>\n",
       "      <td>0</td>\n",
       "      <td>0.0</td>\n",
       "      <td>1.0</td>\n",
       "      <td>0.0</td>\n",
       "      <td>0.0</td>\n",
       "    </tr>\n",
       "    <tr>\n",
       "      <th>1334</th>\n",
       "      <td>-0.875000</td>\n",
       "      <td>1.0</td>\n",
       "      <td>0.0</td>\n",
       "      <td>1.0</td>\n",
       "      <td>0.0</td>\n",
       "      <td>0.0</td>\n",
       "      <td>-0.5</td>\n",
       "      <td>0</td>\n",
       "      <td>1.0</td>\n",
       "      <td>0.0</td>\n",
       "      <td>0.0</td>\n",
       "      <td>0.0</td>\n",
       "    </tr>\n",
       "    <tr>\n",
       "      <th>1335</th>\n",
       "      <td>-0.875000</td>\n",
       "      <td>1.0</td>\n",
       "      <td>0.0</td>\n",
       "      <td>1.0</td>\n",
       "      <td>0.0</td>\n",
       "      <td>0.0</td>\n",
       "      <td>-0.5</td>\n",
       "      <td>0</td>\n",
       "      <td>0.0</td>\n",
       "      <td>0.0</td>\n",
       "      <td>1.0</td>\n",
       "      <td>0.0</td>\n",
       "    </tr>\n",
       "    <tr>\n",
       "      <th>1336</th>\n",
       "      <td>-0.750000</td>\n",
       "      <td>1.0</td>\n",
       "      <td>0.0</td>\n",
       "      <td>0.0</td>\n",
       "      <td>1.0</td>\n",
       "      <td>0.0</td>\n",
       "      <td>-0.5</td>\n",
       "      <td>0</td>\n",
       "      <td>0.0</td>\n",
       "      <td>0.0</td>\n",
       "      <td>0.0</td>\n",
       "      <td>1.0</td>\n",
       "    </tr>\n",
       "    <tr>\n",
       "      <th>1337</th>\n",
       "      <td>0.916667</td>\n",
       "      <td>1.0</td>\n",
       "      <td>0.0</td>\n",
       "      <td>0.0</td>\n",
       "      <td>1.0</td>\n",
       "      <td>0.0</td>\n",
       "      <td>-0.5</td>\n",
       "      <td>1</td>\n",
       "      <td>0.0</td>\n",
       "      <td>1.0</td>\n",
       "      <td>0.0</td>\n",
       "      <td>0.0</td>\n",
       "    </tr>\n",
       "  </tbody>\n",
       "</table>\n",
       "<p>1338 rows × 12 columns</p>\n",
       "</div>"
      ],
      "text/plain": [
       "           age  sex  Normal  Obese  Overweight  Underweight  children  smoker  \\\n",
       "0    -0.833333  1.0     0.0    0.0         1.0          0.0      -0.5       1   \n",
       "1    -0.875000  0.0     0.0    1.0         0.0          0.0       0.0       0   \n",
       "2    -0.458333  0.0     0.0    1.0         0.0          0.0       1.0       0   \n",
       "3    -0.250000  0.0     1.0    0.0         0.0          0.0      -0.5       0   \n",
       "4    -0.291667  0.0     0.0    0.0         1.0          0.0      -0.5       0   \n",
       "...        ...  ...     ...    ...         ...          ...       ...     ...   \n",
       "1333  0.458333  0.0     0.0    1.0         0.0          0.0       1.0       0   \n",
       "1334 -0.875000  1.0     0.0    1.0         0.0          0.0      -0.5       0   \n",
       "1335 -0.875000  1.0     0.0    1.0         0.0          0.0      -0.5       0   \n",
       "1336 -0.750000  1.0     0.0    0.0         1.0          0.0      -0.5       0   \n",
       "1337  0.916667  1.0     0.0    0.0         1.0          0.0      -0.5       1   \n",
       "\n",
       "       NE   NW   SE   SW  \n",
       "0     0.0  0.0  0.0  1.0  \n",
       "1     0.0  0.0  1.0  0.0  \n",
       "2     0.0  0.0  1.0  0.0  \n",
       "3     0.0  1.0  0.0  0.0  \n",
       "4     0.0  1.0  0.0  0.0  \n",
       "...   ...  ...  ...  ...  \n",
       "1333  0.0  1.0  0.0  0.0  \n",
       "1334  1.0  0.0  0.0  0.0  \n",
       "1335  0.0  0.0  1.0  0.0  \n",
       "1336  0.0  0.0  0.0  1.0  \n",
       "1337  0.0  1.0  0.0  0.0  \n",
       "\n",
       "[1338 rows x 12 columns]"
      ]
     },
     "execution_count": 98,
     "metadata": {},
     "output_type": "execute_result"
    }
   ],
   "source": [
    "x_data"
   ]
  },
  {
   "cell_type": "code",
   "execution_count": 100,
   "id": "2978f8da",
   "metadata": {},
   "outputs": [],
   "source": [
    "ip_raw = [21, 'male', 23.8, 0, 'yes', 'southwest']"
   ]
  },
  {
   "cell_type": "code",
   "execution_count": 102,
   "id": "03da9d58",
   "metadata": {},
   "outputs": [
    {
     "data": {
      "text/plain": [
       "-0.75"
      ]
     },
     "execution_count": 102,
     "metadata": {},
     "output_type": "execute_result"
    }
   ],
   "source": [
    "age = (ip_raw[0]-39)/(51-27)\n",
    "age"
   ]
  },
  {
   "cell_type": "code",
   "execution_count": 103,
   "id": "4bc77c8a",
   "metadata": {},
   "outputs": [
    {
     "data": {
      "text/plain": [
       "0"
      ]
     },
     "execution_count": 103,
     "metadata": {},
     "output_type": "execute_result"
    }
   ],
   "source": [
    "if ip_raw[1]=='male':\n",
    "    sex=0\n",
    "else:\n",
    "    sex=1\n",
    "sex"
   ]
  },
  {
   "cell_type": "code",
   "execution_count": 112,
   "id": "be95cbcf",
   "metadata": {},
   "outputs": [
    {
     "data": {
      "text/plain": [
       "[0, 1, 0, 0]"
      ]
     },
     "execution_count": 112,
     "metadata": {},
     "output_type": "execute_result"
    }
   ],
   "source": [
    "if ip_raw[2] in np.arange(0, 18.5):\n",
    "    bmi = [0,0,0,1]\n",
    "elif ip_raw[2] in np.arange(18.5, 24.9):\n",
    "    bmi = [1,0,0,0]\n",
    "elif ip_raw[2] in np.arange(24.9, 29.9):\n",
    "    bmi = [0,0,1,0]\n",
    "else:\n",
    "    bmi = [0,1,0,0]\n",
    "bmi"
   ]
  },
  {
   "cell_type": "code",
   "execution_count": 113,
   "id": "8b1712a1",
   "metadata": {},
   "outputs": [
    {
     "data": {
      "text/plain": [
       "-0.5"
      ]
     },
     "execution_count": 113,
     "metadata": {},
     "output_type": "execute_result"
    }
   ],
   "source": [
    "children = (ip_raw[3]-1)/(2-0)\n",
    "children"
   ]
  },
  {
   "cell_type": "code",
   "execution_count": 114,
   "id": "9ec864bc",
   "metadata": {},
   "outputs": [
    {
     "data": {
      "text/plain": [
       "1"
      ]
     },
     "execution_count": 114,
     "metadata": {},
     "output_type": "execute_result"
    }
   ],
   "source": [
    "if ip_raw[4]=='yes':\n",
    "    smoker = 1\n",
    "else:\n",
    "    smoker = 0\n",
    "    \n",
    "smoker"
   ]
  },
  {
   "cell_type": "code",
   "execution_count": 117,
   "id": "f69b4c38",
   "metadata": {},
   "outputs": [
    {
     "data": {
      "text/plain": [
       "[0, 0, 0, 1]"
      ]
     },
     "execution_count": 117,
     "metadata": {},
     "output_type": "execute_result"
    }
   ],
   "source": [
    "if ip_raw[5] == 'northeast':\n",
    "    regional_area = [1, 0, 0, 0]\n",
    "elif ip_raw[5] == 'northwest':\n",
    "    regional_area = [0, 1, 0, 0]\n",
    "elif ip_raw[5] == 'southeast':\n",
    "    regional_area = [0, 0, 1, 0]\n",
    "else:\n",
    "    regional_area = [0, 0, 0, 1]\n",
    "    \n",
    "regional_area"
   ]
  },
  {
   "cell_type": "code",
   "execution_count": 128,
   "id": "bf6ea266",
   "metadata": {},
   "outputs": [
    {
     "data": {
      "text/plain": [
       "12"
      ]
     },
     "execution_count": 128,
     "metadata": {},
     "output_type": "execute_result"
    }
   ],
   "source": [
    "l = [age, sex]+ bmi + [children, smoker] + regional_area\n",
    "len(l)"
   ]
  },
  {
   "cell_type": "code",
   "execution_count": 145,
   "id": "ec6a0493",
   "metadata": {},
   "outputs": [],
   "source": [
    "t = np.array(l)\n",
    "\n",
    "t2 = t.reshape( 1, -1)"
   ]
  },
  {
   "cell_type": "code",
   "execution_count": 163,
   "id": "020d3e6e",
   "metadata": {},
   "outputs": [
    {
     "data": {
      "text/plain": [
       "2.1953574172632386"
      ]
     },
     "execution_count": 163,
     "metadata": {},
     "output_type": "execute_result"
    }
   ],
   "source": [
    "pred = float(model.predict(t2))\n",
    "pred"
   ]
  },
  {
   "cell_type": "markdown",
   "id": "a68ce853",
   "metadata": {},
   "source": [
    "# un robust scale predicted value"
   ]
  },
  {
   "cell_type": "code",
   "execution_count": 171,
   "id": "0c9cd77b",
   "metadata": {},
   "outputs": [
    {
     "data": {
      "text/plain": [
       "11899.6275"
      ]
     },
     "execution_count": 171,
     "metadata": {},
     "output_type": "execute_result"
    }
   ],
   "source": [
    "fin = dd.expenses.quantile([0.25, 0.75])\n",
    "f1 = fin.iloc[0]\n",
    "f2 = fin.iloc[1]\n",
    "f = f2-f1\n",
    "f"
   ]
  },
  {
   "cell_type": "code",
   "execution_count": 170,
   "id": "a54e3ce4",
   "metadata": {},
   "outputs": [
    {
     "data": {
      "text/plain": [
       "9382.029999999999"
      ]
     },
     "execution_count": 170,
     "metadata": {},
     "output_type": "execute_result"
    }
   ],
   "source": [
    "median = dd['expenses'].median()"
   ]
  },
  {
   "cell_type": "code",
   "execution_count": 172,
   "id": "06282a22",
   "metadata": {},
   "outputs": [
    {
     "data": {
      "text/plain": [
       "26123.93549479461"
      ]
     },
     "execution_count": 172,
     "metadata": {},
     "output_type": "execute_result"
    }
   ],
   "source": [
    "prediction = (pred * f) + median\n",
    "prediction"
   ]
  }
 ],
 "metadata": {
  "kernelspec": {
   "display_name": "Python 3",
   "language": "python",
   "name": "python3"
  },
  "language_info": {
   "codemirror_mode": {
    "name": "ipython",
    "version": 3
   },
   "file_extension": ".py",
   "mimetype": "text/x-python",
   "name": "python",
   "nbconvert_exporter": "python",
   "pygments_lexer": "ipython3",
   "version": "3.8.8"
  }
 },
 "nbformat": 4,
 "nbformat_minor": 5
}
