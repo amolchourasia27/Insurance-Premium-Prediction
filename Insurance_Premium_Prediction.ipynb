{
 "cells": [
  {
   "cell_type": "markdown",
   "id": "84e3a9b9",
   "metadata": {},
   "source": [
    "### import libraries"
   ]
  },
  {
   "cell_type": "code",
   "execution_count": 28,
   "id": "171c1ce4",
   "metadata": {},
   "outputs": [],
   "source": [
    "import numpy as np\n",
    "import pandas as pd\n",
    "import matplotlib.pyplot as plt\n",
    "import seaborn as sns\n",
    "\n",
    "from sklearn.preprocessing import PolynomialFeatures\n",
    "from sklearn.preprocessing import RobustScaler\n",
    "from sklearn.preprocessing import StandardScaler\n",
    "from sklearn.preprocessing import PolynomialFeatures\n",
    "from sklearn.preprocessing import RobustScaler\n",
    "from sklearn.preprocessing import OneHotEncoder\n",
    "from sklearn.preprocessing import LabelEncoder\n",
    "from sklearn.model_selection import train_test_split\n",
    "from sklearn.model_selection import cross_val_score\n",
    "from sklearn.compose import ColumnTransformer\n",
    "from sklearn.linear_model import LinearRegression\n",
    "from sklearn.linear_model import Ridge\n",
    "from sklearn.model_selection import GridSearchCV\n",
    "from sklearn.model_selection import RepeatedKFold\n",
    "from sklearn.metrics import mean_squared_error\n",
    "from sklearn.metrics import r2_score\n",
    "from sklearn.svm import SVR  \n",
    "\n",
    "from scipy import stats\n",
    "\n",
    "import statsmodels.api as sm\n",
    "from statsmodels.formula.api import ols\n",
    "from statsmodels.stats.anova import anova_lm\n",
    "import statsmodels.stats.multicomp\n",
    "\n",
    "import pickle\n",
    "\n",
    "%matplotlib inline"
   ]
  },
  {
   "cell_type": "markdown",
   "id": "8026771d",
   "metadata": {},
   "source": [
    "### import dataset\n",
    "\n",
    "The `insurance.csv` dataset contains 1338 observations (rows) and 7 features (columns). <br>\n",
    "The dataset contains 4 numerical features (age, bmi, children and expenses) and 3 nominal features (sex, smoker and region)"
   ]
  },
  {
   "cell_type": "code",
   "execution_count": 29,
   "id": "b0fae6a3",
   "metadata": {},
   "outputs": [],
   "source": [
    "data = pd.read_csv('insurance.csv')"
   ]
  },
  {
   "cell_type": "markdown",
   "id": "33104739",
   "metadata": {},
   "source": [
    "## Data Exploration"
   ]
  },
  {
   "cell_type": "code",
   "execution_count": 30,
   "id": "6d743744",
   "metadata": {},
   "outputs": [
    {
     "data": {
      "text/html": [
       "<div>\n",
       "<style scoped>\n",
       "    .dataframe tbody tr th:only-of-type {\n",
       "        vertical-align: middle;\n",
       "    }\n",
       "\n",
       "    .dataframe tbody tr th {\n",
       "        vertical-align: top;\n",
       "    }\n",
       "\n",
       "    .dataframe thead th {\n",
       "        text-align: right;\n",
       "    }\n",
       "</style>\n",
       "<table border=\"1\" class=\"dataframe\">\n",
       "  <thead>\n",
       "    <tr style=\"text-align: right;\">\n",
       "      <th></th>\n",
       "      <th>age</th>\n",
       "      <th>sex</th>\n",
       "      <th>bmi</th>\n",
       "      <th>children</th>\n",
       "      <th>smoker</th>\n",
       "      <th>region</th>\n",
       "      <th>expenses</th>\n",
       "    </tr>\n",
       "  </thead>\n",
       "  <tbody>\n",
       "    <tr>\n",
       "      <th>0</th>\n",
       "      <td>19</td>\n",
       "      <td>female</td>\n",
       "      <td>27.9</td>\n",
       "      <td>0</td>\n",
       "      <td>yes</td>\n",
       "      <td>southwest</td>\n",
       "      <td>16884.92</td>\n",
       "    </tr>\n",
       "    <tr>\n",
       "      <th>1</th>\n",
       "      <td>18</td>\n",
       "      <td>male</td>\n",
       "      <td>33.8</td>\n",
       "      <td>1</td>\n",
       "      <td>no</td>\n",
       "      <td>southeast</td>\n",
       "      <td>1725.55</td>\n",
       "    </tr>\n",
       "    <tr>\n",
       "      <th>2</th>\n",
       "      <td>28</td>\n",
       "      <td>male</td>\n",
       "      <td>33.0</td>\n",
       "      <td>3</td>\n",
       "      <td>no</td>\n",
       "      <td>southeast</td>\n",
       "      <td>4449.46</td>\n",
       "    </tr>\n",
       "    <tr>\n",
       "      <th>3</th>\n",
       "      <td>33</td>\n",
       "      <td>male</td>\n",
       "      <td>22.7</td>\n",
       "      <td>0</td>\n",
       "      <td>no</td>\n",
       "      <td>northwest</td>\n",
       "      <td>21984.47</td>\n",
       "    </tr>\n",
       "    <tr>\n",
       "      <th>4</th>\n",
       "      <td>32</td>\n",
       "      <td>male</td>\n",
       "      <td>28.9</td>\n",
       "      <td>0</td>\n",
       "      <td>no</td>\n",
       "      <td>northwest</td>\n",
       "      <td>3866.86</td>\n",
       "    </tr>\n",
       "  </tbody>\n",
       "</table>\n",
       "</div>"
      ],
      "text/plain": [
       "   age     sex   bmi  children smoker     region  expenses\n",
       "0   19  female  27.9         0    yes  southwest  16884.92\n",
       "1   18    male  33.8         1     no  southeast   1725.55\n",
       "2   28    male  33.0         3     no  southeast   4449.46\n",
       "3   33    male  22.7         0     no  northwest  21984.47\n",
       "4   32    male  28.9         0     no  northwest   3866.86"
      ]
     },
     "execution_count": 30,
     "metadata": {},
     "output_type": "execute_result"
    }
   ],
   "source": [
    "data.head(5)"
   ]
  },
  {
   "cell_type": "code",
   "execution_count": 31,
   "id": "a2a2f49e",
   "metadata": {},
   "outputs": [
    {
     "data": {
      "text/html": [
       "<div>\n",
       "<style scoped>\n",
       "    .dataframe tbody tr th:only-of-type {\n",
       "        vertical-align: middle;\n",
       "    }\n",
       "\n",
       "    .dataframe tbody tr th {\n",
       "        vertical-align: top;\n",
       "    }\n",
       "\n",
       "    .dataframe thead th {\n",
       "        text-align: right;\n",
       "    }\n",
       "</style>\n",
       "<table border=\"1\" class=\"dataframe\">\n",
       "  <thead>\n",
       "    <tr style=\"text-align: right;\">\n",
       "      <th></th>\n",
       "      <th>age</th>\n",
       "      <th>sex</th>\n",
       "      <th>bmi</th>\n",
       "      <th>children</th>\n",
       "      <th>smoker</th>\n",
       "      <th>region</th>\n",
       "      <th>expenses</th>\n",
       "    </tr>\n",
       "  </thead>\n",
       "  <tbody>\n",
       "    <tr>\n",
       "      <th>1333</th>\n",
       "      <td>50</td>\n",
       "      <td>male</td>\n",
       "      <td>31.0</td>\n",
       "      <td>3</td>\n",
       "      <td>no</td>\n",
       "      <td>northwest</td>\n",
       "      <td>10600.55</td>\n",
       "    </tr>\n",
       "    <tr>\n",
       "      <th>1334</th>\n",
       "      <td>18</td>\n",
       "      <td>female</td>\n",
       "      <td>31.9</td>\n",
       "      <td>0</td>\n",
       "      <td>no</td>\n",
       "      <td>northeast</td>\n",
       "      <td>2205.98</td>\n",
       "    </tr>\n",
       "    <tr>\n",
       "      <th>1335</th>\n",
       "      <td>18</td>\n",
       "      <td>female</td>\n",
       "      <td>36.9</td>\n",
       "      <td>0</td>\n",
       "      <td>no</td>\n",
       "      <td>southeast</td>\n",
       "      <td>1629.83</td>\n",
       "    </tr>\n",
       "    <tr>\n",
       "      <th>1336</th>\n",
       "      <td>21</td>\n",
       "      <td>female</td>\n",
       "      <td>25.8</td>\n",
       "      <td>0</td>\n",
       "      <td>no</td>\n",
       "      <td>southwest</td>\n",
       "      <td>2007.95</td>\n",
       "    </tr>\n",
       "    <tr>\n",
       "      <th>1337</th>\n",
       "      <td>61</td>\n",
       "      <td>female</td>\n",
       "      <td>29.1</td>\n",
       "      <td>0</td>\n",
       "      <td>yes</td>\n",
       "      <td>northwest</td>\n",
       "      <td>29141.36</td>\n",
       "    </tr>\n",
       "  </tbody>\n",
       "</table>\n",
       "</div>"
      ],
      "text/plain": [
       "      age     sex   bmi  children smoker     region  expenses\n",
       "1333   50    male  31.0         3     no  northwest  10600.55\n",
       "1334   18  female  31.9         0     no  northeast   2205.98\n",
       "1335   18  female  36.9         0     no  southeast   1629.83\n",
       "1336   21  female  25.8         0     no  southwest   2007.95\n",
       "1337   61  female  29.1         0    yes  northwest  29141.36"
      ]
     },
     "execution_count": 31,
     "metadata": {},
     "output_type": "execute_result"
    }
   ],
   "source": [
    "data.tail(5)"
   ]
  },
  {
   "cell_type": "code",
   "execution_count": 32,
   "id": "31109a6a",
   "metadata": {},
   "outputs": [
    {
     "data": {
      "text/html": [
       "<div>\n",
       "<style scoped>\n",
       "    .dataframe tbody tr th:only-of-type {\n",
       "        vertical-align: middle;\n",
       "    }\n",
       "\n",
       "    .dataframe tbody tr th {\n",
       "        vertical-align: top;\n",
       "    }\n",
       "\n",
       "    .dataframe thead th {\n",
       "        text-align: right;\n",
       "    }\n",
       "</style>\n",
       "<table border=\"1\" class=\"dataframe\">\n",
       "  <thead>\n",
       "    <tr style=\"text-align: right;\">\n",
       "      <th></th>\n",
       "      <th>age</th>\n",
       "      <th>sex</th>\n",
       "      <th>bmi</th>\n",
       "      <th>children</th>\n",
       "      <th>smoker</th>\n",
       "      <th>region</th>\n",
       "      <th>expenses</th>\n",
       "    </tr>\n",
       "  </thead>\n",
       "  <tbody>\n",
       "    <tr>\n",
       "      <th>77</th>\n",
       "      <td>21</td>\n",
       "      <td>male</td>\n",
       "      <td>35.5</td>\n",
       "      <td>0</td>\n",
       "      <td>no</td>\n",
       "      <td>southeast</td>\n",
       "      <td>1532.47</td>\n",
       "    </tr>\n",
       "    <tr>\n",
       "      <th>488</th>\n",
       "      <td>44</td>\n",
       "      <td>female</td>\n",
       "      <td>38.1</td>\n",
       "      <td>0</td>\n",
       "      <td>yes</td>\n",
       "      <td>southeast</td>\n",
       "      <td>48885.14</td>\n",
       "    </tr>\n",
       "    <tr>\n",
       "      <th>572</th>\n",
       "      <td>30</td>\n",
       "      <td>female</td>\n",
       "      <td>43.1</td>\n",
       "      <td>2</td>\n",
       "      <td>no</td>\n",
       "      <td>southeast</td>\n",
       "      <td>4753.64</td>\n",
       "    </tr>\n",
       "    <tr>\n",
       "      <th>514</th>\n",
       "      <td>39</td>\n",
       "      <td>male</td>\n",
       "      <td>28.3</td>\n",
       "      <td>1</td>\n",
       "      <td>yes</td>\n",
       "      <td>southwest</td>\n",
       "      <td>21082.16</td>\n",
       "    </tr>\n",
       "    <tr>\n",
       "      <th>657</th>\n",
       "      <td>27</td>\n",
       "      <td>male</td>\n",
       "      <td>33.2</td>\n",
       "      <td>2</td>\n",
       "      <td>no</td>\n",
       "      <td>northwest</td>\n",
       "      <td>4058.71</td>\n",
       "    </tr>\n",
       "  </tbody>\n",
       "</table>\n",
       "</div>"
      ],
      "text/plain": [
       "     age     sex   bmi  children smoker     region  expenses\n",
       "77    21    male  35.5         0     no  southeast   1532.47\n",
       "488   44  female  38.1         0    yes  southeast  48885.14\n",
       "572   30  female  43.1         2     no  southeast   4753.64\n",
       "514   39    male  28.3         1    yes  southwest  21082.16\n",
       "657   27    male  33.2         2     no  northwest   4058.71"
      ]
     },
     "execution_count": 32,
     "metadata": {},
     "output_type": "execute_result"
    }
   ],
   "source": [
    "data.sample(5)"
   ]
  },
  {
   "cell_type": "code",
   "execution_count": 33,
   "id": "9b0e908a",
   "metadata": {},
   "outputs": [
    {
     "data": {
      "text/plain": [
       "Index(['age', 'sex', 'bmi', 'children', 'smoker', 'region', 'expenses'], dtype='object')"
      ]
     },
     "execution_count": 33,
     "metadata": {},
     "output_type": "execute_result"
    }
   ],
   "source": [
    "data.columns"
   ]
  },
  {
   "cell_type": "markdown",
   "id": "d733c3ae",
   "metadata": {},
   "source": [
    " "
   ]
  },
  {
   "cell_type": "markdown",
   "id": "68590b08",
   "metadata": {},
   "source": [
    "### Exploratory Data  Analysis"
   ]
  },
  {
   "cell_type": "code",
   "execution_count": 34,
   "id": "d8602462",
   "metadata": {},
   "outputs": [
    {
     "name": "stdout",
     "output_type": "stream",
     "text": [
      "<class 'pandas.core.frame.DataFrame'>\n",
      "RangeIndex: 1338 entries, 0 to 1337\n",
      "Data columns (total 7 columns):\n",
      " #   Column    Non-Null Count  Dtype  \n",
      "---  ------    --------------  -----  \n",
      " 0   age       1338 non-null   int64  \n",
      " 1   sex       1338 non-null   object \n",
      " 2   bmi       1338 non-null   float64\n",
      " 3   children  1338 non-null   int64  \n",
      " 4   smoker    1338 non-null   object \n",
      " 5   region    1338 non-null   object \n",
      " 6   expenses  1338 non-null   float64\n",
      "dtypes: float64(2), int64(2), object(3)\n",
      "memory usage: 73.3+ KB\n"
     ]
    }
   ],
   "source": [
    "data.info()"
   ]
  },
  {
   "cell_type": "code",
   "execution_count": 35,
   "id": "5f38253d",
   "metadata": {},
   "outputs": [
    {
     "data": {
      "text/html": [
       "<div>\n",
       "<style scoped>\n",
       "    .dataframe tbody tr th:only-of-type {\n",
       "        vertical-align: middle;\n",
       "    }\n",
       "\n",
       "    .dataframe tbody tr th {\n",
       "        vertical-align: top;\n",
       "    }\n",
       "\n",
       "    .dataframe thead th {\n",
       "        text-align: right;\n",
       "    }\n",
       "</style>\n",
       "<table border=\"1\" class=\"dataframe\">\n",
       "  <thead>\n",
       "    <tr style=\"text-align: right;\">\n",
       "      <th></th>\n",
       "      <th>age</th>\n",
       "      <th>bmi</th>\n",
       "      <th>children</th>\n",
       "      <th>expenses</th>\n",
       "    </tr>\n",
       "  </thead>\n",
       "  <tbody>\n",
       "    <tr>\n",
       "      <th>count</th>\n",
       "      <td>1338.000000</td>\n",
       "      <td>1338.000000</td>\n",
       "      <td>1338.000000</td>\n",
       "      <td>1338.000000</td>\n",
       "    </tr>\n",
       "    <tr>\n",
       "      <th>mean</th>\n",
       "      <td>39.207025</td>\n",
       "      <td>30.665471</td>\n",
       "      <td>1.094918</td>\n",
       "      <td>13270.422414</td>\n",
       "    </tr>\n",
       "    <tr>\n",
       "      <th>std</th>\n",
       "      <td>14.049960</td>\n",
       "      <td>6.098382</td>\n",
       "      <td>1.205493</td>\n",
       "      <td>12110.011240</td>\n",
       "    </tr>\n",
       "    <tr>\n",
       "      <th>min</th>\n",
       "      <td>18.000000</td>\n",
       "      <td>16.000000</td>\n",
       "      <td>0.000000</td>\n",
       "      <td>1121.870000</td>\n",
       "    </tr>\n",
       "    <tr>\n",
       "      <th>25%</th>\n",
       "      <td>27.000000</td>\n",
       "      <td>26.300000</td>\n",
       "      <td>0.000000</td>\n",
       "      <td>4740.287500</td>\n",
       "    </tr>\n",
       "    <tr>\n",
       "      <th>50%</th>\n",
       "      <td>39.000000</td>\n",
       "      <td>30.400000</td>\n",
       "      <td>1.000000</td>\n",
       "      <td>9382.030000</td>\n",
       "    </tr>\n",
       "    <tr>\n",
       "      <th>75%</th>\n",
       "      <td>51.000000</td>\n",
       "      <td>34.700000</td>\n",
       "      <td>2.000000</td>\n",
       "      <td>16639.915000</td>\n",
       "    </tr>\n",
       "    <tr>\n",
       "      <th>max</th>\n",
       "      <td>64.000000</td>\n",
       "      <td>53.100000</td>\n",
       "      <td>5.000000</td>\n",
       "      <td>63770.430000</td>\n",
       "    </tr>\n",
       "  </tbody>\n",
       "</table>\n",
       "</div>"
      ],
      "text/plain": [
       "               age          bmi     children      expenses\n",
       "count  1338.000000  1338.000000  1338.000000   1338.000000\n",
       "mean     39.207025    30.665471     1.094918  13270.422414\n",
       "std      14.049960     6.098382     1.205493  12110.011240\n",
       "min      18.000000    16.000000     0.000000   1121.870000\n",
       "25%      27.000000    26.300000     0.000000   4740.287500\n",
       "50%      39.000000    30.400000     1.000000   9382.030000\n",
       "75%      51.000000    34.700000     2.000000  16639.915000\n",
       "max      64.000000    53.100000     5.000000  63770.430000"
      ]
     },
     "execution_count": 35,
     "metadata": {},
     "output_type": "execute_result"
    }
   ],
   "source": [
    "data.describe()"
   ]
  },
  {
   "cell_type": "markdown",
   "id": "a6241362",
   "metadata": {},
   "source": [
    "## Data Cleaning\n",
    "Check for NaN values in the dataset"
   ]
  },
  {
   "cell_type": "code",
   "execution_count": 36,
   "id": "d2aa9c38",
   "metadata": {
    "scrolled": true
   },
   "outputs": [
    {
     "data": {
      "text/plain": [
       "age         0\n",
       "sex         0\n",
       "bmi         0\n",
       "children    0\n",
       "smoker      0\n",
       "region      0\n",
       "expenses    0\n",
       "dtype: int64"
      ]
     },
     "execution_count": 36,
     "metadata": {},
     "output_type": "execute_result"
    }
   ],
   "source": [
    "data.isnull().sum()"
   ]
  },
  {
   "cell_type": "markdown",
   "id": "f7447651",
   "metadata": {},
   "source": [
    "columns and their contents"
   ]
  },
  {
   "cell_type": "code",
   "execution_count": 37,
   "id": "8a4ce62b",
   "metadata": {},
   "outputs": [
    {
     "name": "stdout",
     "output_type": "stream",
     "text": [
      "age : 47\n",
      "sex : ['female' 'male']\n",
      "bmi : 275\n",
      "children : 6\n",
      "smoker : ['yes' 'no']\n",
      "region : ['southwest' 'southeast' 'northwest' 'northeast']\n",
      "expenses : 1337\n"
     ]
    }
   ],
   "source": [
    "for col in data.columns:\n",
    "    if data[col].dtype == 'object':\n",
    "        print(col, ':', data[col].unique())\n",
    "    else:\n",
    "        print(col, ':', data[col].nunique())"
   ]
  },
  {
   "cell_type": "markdown",
   "id": "55a0fcde",
   "metadata": {},
   "source": [
    "## Feature Engineering"
   ]
  },
  {
   "cell_type": "markdown",
   "id": "b6b543a3",
   "metadata": {},
   "source": [
    "### Categorical to Numerical Encoding"
   ]
  },
  {
   "cell_type": "code",
   "execution_count": 38,
   "id": "bd2c14d3",
   "metadata": {},
   "outputs": [],
   "source": [
    "le = LabelEncoder()\n",
    "\n",
    "data['children'] = le.fit_transform(data['children'])\n",
    "data['smoker'] = le.fit_transform(data['smoker'])"
   ]
  },
  {
   "cell_type": "code",
   "execution_count": 39,
   "id": "95675a23",
   "metadata": {},
   "outputs": [],
   "source": [
    "ohe = OneHotEncoder() \n",
    "\n",
    "data['sex'] = ohe.fit_transform(data[['sex']]).toarray()\n",
    "\n",
    "regional_area = pd.DataFrame(ohe.fit_transform(data[['region']]).toarray()[:,:3], columns = ['SW', 'SE', 'NW'])\n",
    "data = pd.concat([data.iloc[:,:6], regional_area, data['expenses']], axis = 1)"
   ]
  },
  {
   "cell_type": "markdown",
   "id": "0877d809",
   "metadata": {},
   "source": [
    "## Analytics and Visualization"
   ]
  },
  {
   "cell_type": "code",
   "execution_count": 40,
   "id": "33bd4bc5",
   "metadata": {},
   "outputs": [
    {
     "data": {
      "text/html": [
       "<div>\n",
       "<style scoped>\n",
       "    .dataframe tbody tr th:only-of-type {\n",
       "        vertical-align: middle;\n",
       "    }\n",
       "\n",
       "    .dataframe tbody tr th {\n",
       "        vertical-align: top;\n",
       "    }\n",
       "\n",
       "    .dataframe thead th {\n",
       "        text-align: right;\n",
       "    }\n",
       "</style>\n",
       "<table border=\"1\" class=\"dataframe\">\n",
       "  <thead>\n",
       "    <tr style=\"text-align: right;\">\n",
       "      <th></th>\n",
       "      <th>age</th>\n",
       "      <th>sex</th>\n",
       "      <th>bmi</th>\n",
       "      <th>children</th>\n",
       "      <th>smoker</th>\n",
       "      <th>region</th>\n",
       "      <th>SW</th>\n",
       "      <th>SE</th>\n",
       "      <th>NW</th>\n",
       "      <th>expenses</th>\n",
       "    </tr>\n",
       "  </thead>\n",
       "  <tbody>\n",
       "    <tr>\n",
       "      <th>557</th>\n",
       "      <td>34</td>\n",
       "      <td>0.0</td>\n",
       "      <td>34.2</td>\n",
       "      <td>0</td>\n",
       "      <td>0</td>\n",
       "      <td>southeast</td>\n",
       "      <td>0.0</td>\n",
       "      <td>0.0</td>\n",
       "      <td>1.0</td>\n",
       "      <td>3935.18</td>\n",
       "    </tr>\n",
       "    <tr>\n",
       "      <th>851</th>\n",
       "      <td>61</td>\n",
       "      <td>0.0</td>\n",
       "      <td>32.3</td>\n",
       "      <td>2</td>\n",
       "      <td>0</td>\n",
       "      <td>northwest</td>\n",
       "      <td>0.0</td>\n",
       "      <td>1.0</td>\n",
       "      <td>0.0</td>\n",
       "      <td>14119.62</td>\n",
       "    </tr>\n",
       "    <tr>\n",
       "      <th>420</th>\n",
       "      <td>64</td>\n",
       "      <td>0.0</td>\n",
       "      <td>33.9</td>\n",
       "      <td>0</td>\n",
       "      <td>1</td>\n",
       "      <td>southeast</td>\n",
       "      <td>0.0</td>\n",
       "      <td>0.0</td>\n",
       "      <td>1.0</td>\n",
       "      <td>46889.26</td>\n",
       "    </tr>\n",
       "  </tbody>\n",
       "</table>\n",
       "</div>"
      ],
      "text/plain": [
       "     age  sex   bmi  children  smoker     region   SW   SE   NW  expenses\n",
       "557   34  0.0  34.2         0       0  southeast  0.0  0.0  1.0   3935.18\n",
       "851   61  0.0  32.3         2       0  northwest  0.0  1.0  0.0  14119.62\n",
       "420   64  0.0  33.9         0       1  southeast  0.0  0.0  1.0  46889.26"
      ]
     },
     "execution_count": 40,
     "metadata": {},
     "output_type": "execute_result"
    }
   ],
   "source": [
    "data.sample(3)"
   ]
  },
  {
   "cell_type": "markdown",
   "id": "1232cbd4",
   "metadata": {},
   "source": [
    "### Statistical Analysis"
   ]
  },
  {
   "cell_type": "code",
   "execution_count": 41,
   "id": "f741e894",
   "metadata": {},
   "outputs": [
    {
     "data": {
      "text/plain": [
       "Index(['age', 'sex', 'bmi', 'children', 'smoker', 'region', 'SW', 'SE', 'NW',\n",
       "       'expenses'],\n",
       "      dtype='object')"
      ]
     },
     "execution_count": 41,
     "metadata": {},
     "output_type": "execute_result"
    }
   ],
   "source": [
    "data.columns"
   ]
  },
  {
   "cell_type": "code",
   "execution_count": 42,
   "id": "8be0bfd8",
   "metadata": {},
   "outputs": [
    {
     "name": "stdout",
     "output_type": "stream",
     "text": [
      "age\n",
      "Pearson Coefficient : 0.29900819228508274 \n",
      "P Value : 4.886695589992816e-29 \n",
      "\n",
      "Spearman Coefficient : 0.5343921337718459 \n",
      "P Value : 1.130692027803638e-99 \n",
      "\n",
      "\n",
      "sex\n",
      "F-Statistic=1606.587, p=0.000\n",
      "\n",
      "\n",
      "bmi\n",
      "Pearson Coefficient : 0.198576255018932 \n",
      "P Value : 2.301828073512984e-13 \n",
      "\n",
      "Spearman Coefficient : 0.1194188536346528 \n",
      "P Value : 1.1879756959712592e-05 \n",
      "\n",
      "\n",
      "children\n",
      "F-Statistic=1606.441, p=0.000\n",
      "\n",
      "\n",
      "smoker\n",
      "F-Statistic=1606.657, p=0.000\n",
      "\n",
      "\n",
      "SW\n",
      "F-Statistic=1606.648, p=0.000\n",
      "\n",
      "\n",
      "SE\n",
      "F-Statistic=1606.648, p=0.000\n",
      "\n",
      "\n",
      "NW\n",
      "F-Statistic=1606.640, p=0.000\n",
      "\n",
      "\n"
     ]
    }
   ],
   "source": [
    "for i in range(len(data.columns)-1):\n",
    "    if data.columns[i] == 'region':\n",
    "        continue\n",
    "        \n",
    "    print(data.columns[i])\n",
    "    \n",
    "    #for numerical-numerical\n",
    "    if data.columns[i] in ['age', 'bmi']:\n",
    "        \n",
    "        pearson_coef, p_val = stats.pearsonr(data[data.columns[i]], data['expenses'])\n",
    "        print('Pearson Coefficient :',pearson_coef,'\\nP Value :',p_val,'\\n')\n",
    "        \n",
    "        spearman_coef, p_val = stats.spearmanr(data[data.columns[i]], data['expenses'])\n",
    "        print('Spearman Coefficient :',spearman_coef,'\\nP Value :',p_val,'\\n\\n')\n",
    "        \n",
    "    #fot numerical-categorical    \n",
    "    else:\n",
    "        #one-way ANOVA\n",
    "        F, p = stats.f_oneway(data[data.columns[i]],data['expenses'])\n",
    "        print('F-Statistic=%.3f, p=%.3f\\n\\n' % (F, p))\n",
    "        "
   ]
  },
  {
   "cell_type": "code",
   "execution_count": 43,
   "id": "2084394c",
   "metadata": {},
   "outputs": [
    {
     "data": {
      "text/html": [
       "<div>\n",
       "<style scoped>\n",
       "    .dataframe tbody tr th:only-of-type {\n",
       "        vertical-align: middle;\n",
       "    }\n",
       "\n",
       "    .dataframe tbody tr th {\n",
       "        vertical-align: top;\n",
       "    }\n",
       "\n",
       "    .dataframe thead th {\n",
       "        text-align: right;\n",
       "    }\n",
       "</style>\n",
       "<table border=\"1\" class=\"dataframe\">\n",
       "  <thead>\n",
       "    <tr style=\"text-align: right;\">\n",
       "      <th></th>\n",
       "      <th>age</th>\n",
       "      <th>sex</th>\n",
       "      <th>bmi</th>\n",
       "      <th>children</th>\n",
       "      <th>smoker</th>\n",
       "      <th>SW</th>\n",
       "      <th>SE</th>\n",
       "      <th>NW</th>\n",
       "      <th>expenses</th>\n",
       "    </tr>\n",
       "  </thead>\n",
       "  <tbody>\n",
       "    <tr>\n",
       "      <th>age</th>\n",
       "      <td>1.000000</td>\n",
       "      <td>0.020856</td>\n",
       "      <td>0.109341</td>\n",
       "      <td>0.042469</td>\n",
       "      <td>-0.025019</td>\n",
       "      <td>0.002475</td>\n",
       "      <td>-0.000407</td>\n",
       "      <td>-0.011642</td>\n",
       "      <td>0.299008</td>\n",
       "    </tr>\n",
       "    <tr>\n",
       "      <th>sex</th>\n",
       "      <td>0.020856</td>\n",
       "      <td>1.000000</td>\n",
       "      <td>-0.046380</td>\n",
       "      <td>-0.017163</td>\n",
       "      <td>-0.076185</td>\n",
       "      <td>0.002425</td>\n",
       "      <td>0.011156</td>\n",
       "      <td>-0.017117</td>\n",
       "      <td>-0.057292</td>\n",
       "    </tr>\n",
       "    <tr>\n",
       "      <th>bmi</th>\n",
       "      <td>0.109341</td>\n",
       "      <td>-0.046380</td>\n",
       "      <td>1.000000</td>\n",
       "      <td>0.012645</td>\n",
       "      <td>0.003968</td>\n",
       "      <td>-0.138091</td>\n",
       "      <td>-0.135992</td>\n",
       "      <td>0.270144</td>\n",
       "      <td>0.198576</td>\n",
       "    </tr>\n",
       "    <tr>\n",
       "      <th>children</th>\n",
       "      <td>0.042469</td>\n",
       "      <td>-0.017163</td>\n",
       "      <td>0.012645</td>\n",
       "      <td>1.000000</td>\n",
       "      <td>0.007673</td>\n",
       "      <td>-0.022808</td>\n",
       "      <td>0.024806</td>\n",
       "      <td>-0.023066</td>\n",
       "      <td>0.067998</td>\n",
       "    </tr>\n",
       "    <tr>\n",
       "      <th>smoker</th>\n",
       "      <td>-0.025019</td>\n",
       "      <td>-0.076185</td>\n",
       "      <td>0.003968</td>\n",
       "      <td>0.007673</td>\n",
       "      <td>1.000000</td>\n",
       "      <td>0.002811</td>\n",
       "      <td>-0.036945</td>\n",
       "      <td>0.068498</td>\n",
       "      <td>0.787251</td>\n",
       "    </tr>\n",
       "    <tr>\n",
       "      <th>SW</th>\n",
       "      <td>0.002475</td>\n",
       "      <td>0.002425</td>\n",
       "      <td>-0.138091</td>\n",
       "      <td>-0.022808</td>\n",
       "      <td>0.002811</td>\n",
       "      <td>1.000000</td>\n",
       "      <td>-0.320177</td>\n",
       "      <td>-0.345561</td>\n",
       "      <td>0.006349</td>\n",
       "    </tr>\n",
       "    <tr>\n",
       "      <th>SE</th>\n",
       "      <td>-0.000407</td>\n",
       "      <td>0.011156</td>\n",
       "      <td>-0.135992</td>\n",
       "      <td>0.024806</td>\n",
       "      <td>-0.036945</td>\n",
       "      <td>-0.320177</td>\n",
       "      <td>1.000000</td>\n",
       "      <td>-0.346265</td>\n",
       "      <td>-0.039905</td>\n",
       "    </tr>\n",
       "    <tr>\n",
       "      <th>NW</th>\n",
       "      <td>-0.011642</td>\n",
       "      <td>-0.017117</td>\n",
       "      <td>0.270144</td>\n",
       "      <td>-0.023066</td>\n",
       "      <td>0.068498</td>\n",
       "      <td>-0.345561</td>\n",
       "      <td>-0.346265</td>\n",
       "      <td>1.000000</td>\n",
       "      <td>0.073982</td>\n",
       "    </tr>\n",
       "    <tr>\n",
       "      <th>expenses</th>\n",
       "      <td>0.299008</td>\n",
       "      <td>-0.057292</td>\n",
       "      <td>0.198576</td>\n",
       "      <td>0.067998</td>\n",
       "      <td>0.787251</td>\n",
       "      <td>0.006349</td>\n",
       "      <td>-0.039905</td>\n",
       "      <td>0.073982</td>\n",
       "      <td>1.000000</td>\n",
       "    </tr>\n",
       "  </tbody>\n",
       "</table>\n",
       "</div>"
      ],
      "text/plain": [
       "               age       sex       bmi  children    smoker        SW  \\\n",
       "age       1.000000  0.020856  0.109341  0.042469 -0.025019  0.002475   \n",
       "sex       0.020856  1.000000 -0.046380 -0.017163 -0.076185  0.002425   \n",
       "bmi       0.109341 -0.046380  1.000000  0.012645  0.003968 -0.138091   \n",
       "children  0.042469 -0.017163  0.012645  1.000000  0.007673 -0.022808   \n",
       "smoker   -0.025019 -0.076185  0.003968  0.007673  1.000000  0.002811   \n",
       "SW        0.002475  0.002425 -0.138091 -0.022808  0.002811  1.000000   \n",
       "SE       -0.000407  0.011156 -0.135992  0.024806 -0.036945 -0.320177   \n",
       "NW       -0.011642 -0.017117  0.270144 -0.023066  0.068498 -0.345561   \n",
       "expenses  0.299008 -0.057292  0.198576  0.067998  0.787251  0.006349   \n",
       "\n",
       "                SE        NW  expenses  \n",
       "age      -0.000407 -0.011642  0.299008  \n",
       "sex       0.011156 -0.017117 -0.057292  \n",
       "bmi      -0.135992  0.270144  0.198576  \n",
       "children  0.024806 -0.023066  0.067998  \n",
       "smoker   -0.036945  0.068498  0.787251  \n",
       "SW       -0.320177 -0.345561  0.006349  \n",
       "SE        1.000000 -0.346265 -0.039905  \n",
       "NW       -0.346265  1.000000  0.073982  \n",
       "expenses -0.039905  0.073982  1.000000  "
      ]
     },
     "execution_count": 43,
     "metadata": {},
     "output_type": "execute_result"
    }
   ],
   "source": [
    "data.corr()"
   ]
  },
  {
   "cell_type": "markdown",
   "id": "ec403926",
   "metadata": {},
   "source": [
    " "
   ]
  },
  {
   "cell_type": "markdown",
   "id": "d162d462",
   "metadata": {},
   "source": [
    "### Plot Features vs 'expenses'"
   ]
  },
  {
   "cell_type": "code",
   "execution_count": 44,
   "id": "21f3ef31",
   "metadata": {},
   "outputs": [],
   "source": [
    "def numerical(num):\n",
    "    sns.scatterplot(x=data[num], y = data['expenses'])\n",
    "    plt.xlabel(num)\n",
    "    plt.ylabel('Expenses')\n",
    "    plt.title('{n} vs Expenses'.format(n = num))\n",
    "    plt.show()"
   ]
  },
  {
   "cell_type": "code",
   "execution_count": 46,
   "id": "d4f4239a",
   "metadata": {},
   "outputs": [],
   "source": [
    " def categorical(depen_var):\n",
    "        fig, axes = plt.subplots(1, 2, sharex=True, figsize=(12,8))\n",
    "        fig.suptitle('{c} vs {n}'.format(c = depen_var.upper(), n = 'Expenses'))\n",
    "        \n",
    "        sns.boxplot(ax=axes[0], x = data[depen_var], y = data['expenses'])\n",
    "        axes[0].set_title('Boxplot')\n",
    "\n",
    "        sns.barplot(ax=axes[1],  x = data[depen_var], y = data['expenses'])\n",
    "        axes[1].set_title('Bar Chart')\n",
    "\n",
    "        plt.show()"
   ]
  },
  {
   "cell_type": "code",
   "execution_count": 55,
   "id": "5bbdb424",
   "metadata": {},
   "outputs": [
    {
     "data": {
      "image/png": "[encoded data removed]",
      "text/plain": [
       "<Figure size 432x288 with 1 Axes>"
      ]
     },
     "metadata": {
      "needs_background": "light"
     },
     "output_type": "display_data"
    },
    {
     "data": {
      "image/png": "[encoded data removed]",
      "text/plain": [
       "<Figure size 864x576 with 2 Axes>"
      ]
     },
     "metadata": {
      "needs_background": "light"
     },
     "output_type": "display_data"
    },
    {
     "data": {
      "image/png": "[encoded data removed]",
      "text/plain": [
       "<Figure size 432x288 with 1 Axes>"
      ]
     },
     "metadata": {
      "needs_background": "light"
     },
     "output_type": "display_data"
    },
    {
     "data": {
      "image/png": "[encoded data removed]",
      "text/plain": [
       "<Figure size 864x576 with 2 Axes>"
      ]
     },
     "metadata": {
      "needs_background": "light"
     },
     "output_type": "display_data"
    },
    {
     "data": {
      "image/png": "[encoded data removed]",
      "text/plain": [
       "<Figure size 864x576 with 2 Axes>"
      ]
     },
     "metadata": {
      "needs_background": "light"
     },
     "output_type": "display_data"
    },
    {
     "data": {
      "image/png": "[encoded data removed]",
      "text/plain": [
       "<Figure size 864x576 with 2 Axes>"
      ]
     },
     "metadata": {
      "needs_background": "light"
     },
     "output_type": "display_data"
    },
    {
     "data": {
      "image/png": "[encoded data removed]",
      "text/plain": [
       "<Figure size 864x576 with 2 Axes>"
      ]
     },
     "metadata": {
      "needs_background": "light"
     },
     "output_type": "display_data"
    },
    {
     "data": {
      "image/png": "[encoded data removed]",
      "text/plain": [
       "<Figure size 864x576 with 2 Axes>"
      ]
     },
     "metadata": {
      "needs_background": "light"
     },
     "output_type": "display_data"
    }
   ],
   "source": [
    "for feature in data.columns:\n",
    "    if feature == 'expenses':\n",
    "        continue\n",
    "    elif feature in ['age', 'bmi']:\n",
    "        numerical(feature)\n",
    "    else:\n",
    "        categorical(feature)"
   ]
  },
  {
   "cell_type": "code",
   "execution_count": 48,
   "id": "ac947617",
   "metadata": {},
   "outputs": [],
   "source": [
    "data.drop(columns = ['region'], inplace=True)"
   ]
  },
  {
   "cell_type": "markdown",
   "id": "1cbe0661",
   "metadata": {},
   "source": [
    "### Data Standardization"
   ]
  },
  {
   "cell_type": "code",
   "execution_count": 49,
   "id": "d62e7891",
   "metadata": {},
   "outputs": [],
   "source": [
    "scaler = RobustScaler()\n",
    "\n",
    "data[['age', 'bmi']] = scaler.fit_transform(data[['age', 'bmi']])"
   ]
  },
  {
   "cell_type": "markdown",
   "id": "ad03a084",
   "metadata": {},
   "source": [
    " "
   ]
  },
  {
   "cell_type": "markdown",
   "id": "3a440f99",
   "metadata": {},
   "source": [
    "## Model Building"
   ]
  },
  {
   "cell_type": "markdown",
   "id": "89f91fae",
   "metadata": {},
   "source": [
    "### train_test_split"
   ]
  },
  {
   "cell_type": "code",
   "execution_count": 60,
   "id": "57550832",
   "metadata": {},
   "outputs": [],
   "source": [
    "y_data = data['expenses']\n",
    "x_data = data.iloc[:,:8]"
   ]
  },
  {
   "cell_type": "code",
   "execution_count": 63,
   "id": "27b8cc84",
   "metadata": {},
   "outputs": [],
   "source": [
    "x_train, x_test, y_train, y_test = train_test_split(x_data, y_data, test_size=0.15)"
   ]
  },
  {
   "cell_type": "markdown",
   "id": "0dd00575",
   "metadata": {},
   "source": [
    " "
   ]
  },
  {
   "cell_type": "markdown",
   "id": "d81a9722",
   "metadata": {},
   "source": [
    "### Multiple Linear Regression"
   ]
  },
  {
   "cell_type": "code",
   "execution_count": 106,
   "id": "1e4343e1",
   "metadata": {},
   "outputs": [],
   "source": [
    "#regression object\n",
    "mlr = LinearRegression()\n",
    "\n",
    "#training the model\n",
    "mlr.fit(x_train, y_train)\n",
    "\n",
    "#predict values\n",
    "pred_mlr = mlr.predict(x_test)"
   ]
  },
  {
   "cell_type": "markdown",
   "id": "922b0e39",
   "metadata": {},
   "source": [
    " "
   ]
  },
  {
   "cell_type": "markdown",
   "id": "30f128dc",
   "metadata": {},
   "source": [
    "### Polynomial Regression"
   ]
  },
  {
   "cell_type": "code",
   "execution_count": 107,
   "id": "258fbfdd",
   "metadata": {},
   "outputs": [],
   "source": [
    "poly_reg = PolynomialFeatures(degree=2)\n",
    "x_poly_data  = poly_reg.fit_transform(x_data)\n",
    "x_poly_train, x_poly_test = train_test_split(x_poly_data, test_size = 0.15)\n",
    "\n",
    "\n",
    "lin_reg2 = LinearRegression()\n",
    "lin_reg2.fit(x_poly_train,y_train)\n",
    " \n",
    "pred_poly = lin_reg2.predict(x_poly_test)"
   ]
  },
  {
   "cell_type": "markdown",
   "id": "5ffd49f6",
   "metadata": {},
   "source": [
    " "
   ]
  },
  {
   "cell_type": "markdown",
   "id": "35527147",
   "metadata": {},
   "source": [
    "### Ridge Regression"
   ]
  },
  {
   "cell_type": "code",
   "execution_count": 108,
   "id": "332078bf",
   "metadata": {},
   "outputs": [],
   "source": [
    "RR = Ridge(alpha=0.01)\n",
    "\n",
    "RR.fit(x_poly_train, y_train)\n",
    "\n",
    "yhat_ridge = RR.predict(x_poly_test)"
   ]
  },
  {
   "cell_type": "markdown",
   "id": "34476a66",
   "metadata": {},
   "source": [
    " #### tune hyperparameters (alpha) for Ridge Regression\n"
   ]
  },
  {
   "cell_type": "code",
   "execution_count": 109,
   "id": "c732885b",
   "metadata": {},
   "outputs": [],
   "source": [
    "cv = RepeatedKFold(n_splits=10, n_repeats=3, random_state=1)"
   ]
  },
  {
   "cell_type": "code",
   "execution_count": 110,
   "id": "0e8b812a",
   "metadata": {},
   "outputs": [
    {
     "name": "stdout",
     "output_type": "stream",
     "text": [
      "Best Estimate for Hyper Parameter Tuning :  Ridge(alpha=0.01)\n"
     ]
    }
   ],
   "source": [
    "grid = dict()\n",
    "grid['alpha'] = [0.01, 0.03, 0.1, 0.3, 1]\n",
    "search = GridSearchCV(RR, grid, scoring='neg_mean_absolute_error', cv=cv, n_jobs=-1)\n",
    "results=search.fit(x_data, y_data)\n",
    "print('Best Estimate for Hyper Parameter Tuning : ', str(results.best_estimator_))\n",
    "best_alpha_str = str(results.best_estimator_)\n",
    "best_alpha = float(best_alpha_str[12:16])"
   ]
  },
  {
   "cell_type": "code",
   "execution_count": 111,
   "id": "3c99cc94",
   "metadata": {},
   "outputs": [],
   "source": [
    "#final Ridge Regression model:\n",
    "\n",
    "RR = Ridge(alpha = best_alpha)\n",
    "RR.fit(x_poly_train, y_train)\n",
    "pred_ridge = RR.predict(x_poly_test)"
   ]
  },
  {
   "cell_type": "markdown",
   "id": "7fccdd5f",
   "metadata": {},
   "source": [
    " "
   ]
  },
  {
   "cell_type": "markdown",
   "id": "1fa3acfc",
   "metadata": {},
   "source": [
    "### Decision Tree Regressor"
   ]
  },
  {
   "cell_type": "code",
   "execution_count": 71,
   "id": "3d08c9d4",
   "metadata": {},
   "outputs": [],
   "source": [
    "from sklearn.tree import DecisionTreeRegressor"
   ]
  },
  {
   "cell_type": "code",
   "execution_count": 112,
   "id": "e65809db",
   "metadata": {},
   "outputs": [],
   "source": [
    "dec_tree_reg = DecisionTreeRegressor(max_depth=5, random_state=13)  \n",
    "dec_tree_reg.fit(x_train, y_train) \n",
    "pred_dec_tree = dec_tree_reg.predict(x_test)"
   ]
  },
  {
   "cell_type": "markdown",
   "id": "ac83b9f8",
   "metadata": {},
   "source": [
    " "
   ]
  },
  {
   "cell_type": "markdown",
   "id": "06ed291a",
   "metadata": {},
   "source": [
    "### Random Forest Regressor"
   ]
  },
  {
   "cell_type": "code",
   "execution_count": 113,
   "id": "a051d23d",
   "metadata": {},
   "outputs": [],
   "source": [
    "from sklearn.ensemble import RandomForestRegressor"
   ]
  },
  {
   "cell_type": "code",
   "execution_count": 118,
   "id": "3b1ce08a",
   "metadata": {},
   "outputs": [],
   "source": [
    "rand_forr_reg = RandomForestRegressor(n_estimators=400, max_depth=5, random_state=13)  \n",
    "rand_forr_reg.fit(x_train, y_train)\n",
    "pred_rand_forr = rand_forr_reg.predict(x_test)"
   ]
  },
  {
   "cell_type": "markdown",
   "id": "8ca165c2",
   "metadata": {},
   "source": [
    " "
   ]
  },
  {
   "cell_type": "markdown",
   "id": "3026ed0a",
   "metadata": {},
   "source": [
    "## Evaluation Metrics"
   ]
  },
  {
   "cell_type": "code",
   "execution_count": 127,
   "id": "a52fca77",
   "metadata": {},
   "outputs": [],
   "source": [
    "def evaluate(estimator, pred_val):\n",
    "    if estimator == poly:\n",
    "        x = PolynomialFeatures(degree=2).fit_transform(x_data)\n",
    "    else:\n",
    "        x = x_data\n",
    "    r2 = r2_score(y_test, pred_rand_forest_reg)\n",
    "    rmse = np.sqrt(mean_squared_error(y_test, pred_val))\n",
    "    score = cross_val_score(estimator, x, y_data, cv=4).mean()\n",
    "    return r2, rmse, score"
   ]
  },
  {
   "cell_type": "markdown",
   "id": "a18c2c32",
   "metadata": {},
   "source": [
    " "
   ]
  },
  {
   "cell_type": "code",
   "execution_count": 128,
   "id": "d7f3b596",
   "metadata": {},
   "outputs": [
    {
     "name": "stdout",
     "output_type": "stream",
     "text": [
      "0.8690217392624761 5875.946107682473 0.7460581522866252\n"
     ]
    }
   ],
   "source": [
    "#Multpiple Linear Regression\n",
    "mlr_r2, mlr_rmse, mlr_cvscore = evaluate(mlr, pred_mlr)\n",
    "print(mlr_r2, mlr_rmse, mlr_cvscore)"
   ]
  },
  {
   "cell_type": "code",
   "execution_count": 133,
   "id": "5adf9159",
   "metadata": {},
   "outputs": [
    {
     "name": "stdout",
     "output_type": "stream",
     "text": [
      "0.8690217392624761 12314.26895322122 0.8354338118410909\n"
     ]
    }
   ],
   "source": [
    "#Polynomial Regression\n",
    "poly = LinearRegression()\n",
    "poly_r2, poly_rmse, poly_cvscore = evaluate(poly, pred_poly)\n",
    "print(poly_r2, poly_rmse, poly_cvscore)"
   ]
  },
  {
   "cell_type": "code",
   "execution_count": 129,
   "id": "4df91f8c",
   "metadata": {},
   "outputs": [
    {
     "name": "stdout",
     "output_type": "stream",
     "text": [
      "0.8690217392624761 12314.237529782913 0.7460581967107554\n"
     ]
    }
   ],
   "source": [
    "#Ridge Regression\n",
    "ridge_r2, ridge_rmse, ridge_cvscore = evaluate(RR, pred_ridge)\n",
    "print(ridge_r2, ridge_rmse, ridge_cvscore)"
   ]
  },
  {
   "cell_type": "code",
   "execution_count": 137,
   "id": "418dab8e",
   "metadata": {},
   "outputs": [
    {
     "name": "stdout",
     "output_type": "stream",
     "text": [
      "0.8690217392624761 4665.932853359235 0.8313315872058668\n"
     ]
    }
   ],
   "source": [
    "#Decision Tree Regressor\n",
    "dec_tree_r2, dec_tree_rmse, dec_tree_cvscore = evaluate(dec_tree_reg, pred_dec_tree)\n",
    "print(dec_tree_r2, dec_tree_rmse, dec_tree_cvscore)"
   ]
  },
  {
   "cell_type": "code",
   "execution_count": 132,
   "id": "076249fb",
   "metadata": {},
   "outputs": [
    {
     "name": "stdout",
     "output_type": "stream",
     "text": [
      "0.8690217392624761 4428.6913541287095 0.8544990867810639\n"
     ]
    }
   ],
   "source": [
    "#Random Forest Regressor\n",
    "ran_r2, ran_rmse, ran_cvscore = evaluate(random_forest_reg, pred_rand_forest_reg)\n",
    "print(ran_r2, ran_rmse, ran_cvscore)"
   ]
  },
  {
   "cell_type": "code",
   "execution_count": null,
   "id": "1418ceae",
   "metadata": {},
   "outputs": [],
   "source": []
  },
  {
   "cell_type": "markdown",
   "id": "5c7c95c6",
   "metadata": {},
   "source": [
    "### Comparing Model perfomances"
   ]
  },
  {
   "cell_type": "code",
   "execution_count": 138,
   "id": "d0b31583",
   "metadata": {},
   "outputs": [],
   "source": [
    "r2_scores = [mlr_r2, poly_r2, ridge_r2, dec_tree_r2, ran_r2]\n",
    "rmse_scores = [mlr_rmse, poly_rmse, ridge_rmse, dec_tree_rmse, ran_rmse]\n",
    "cross_val_scores  = [mlr_cvscore, poly_cvscore, ridge_cvscore, dec_tree_cvscore, ran_cvscore]"
   ]
  },
  {
   "cell_type": "code",
   "execution_count": 139,
   "id": "a597cad7",
   "metadata": {},
   "outputs": [],
   "source": [
    "models_comparison = pd.DataFrame([r2_scores, rmse_scores, cross_val_scores], \n",
    "                                 columns = ['Multiple Linear Regression', 'Polynomial Regression', 'Ridge Regression', \n",
    "                                          'Decision Tree Regressor', 'Random Forest Regressor'],\n",
    "                                 index = ['R2 score', 'RMSE score', 'Cross Validation Score'])"
   ]
  },
  {
   "cell_type": "code",
   "execution_count": 140,
   "id": "106e4e4c",
   "metadata": {},
   "outputs": [
    {
     "data": {
      "text/html": [
       "<div>\n",
       "<style scoped>\n",
       "    .dataframe tbody tr th:only-of-type {\n",
       "        vertical-align: middle;\n",
       "    }\n",
       "\n",
       "    .dataframe tbody tr th {\n",
       "        vertical-align: top;\n",
       "    }\n",
       "\n",
       "    .dataframe thead th {\n",
       "        text-align: right;\n",
       "    }\n",
       "</style>\n",
       "<table border=\"1\" class=\"dataframe\">\n",
       "  <thead>\n",
       "    <tr style=\"text-align: right;\">\n",
       "      <th></th>\n",
       "      <th>Multiple Linear Regression</th>\n",
       "      <th>Polynomial Regression</th>\n",
       "      <th>Ridge Regression</th>\n",
       "      <th>Decision Tree Regressor</th>\n",
       "      <th>Random Forest Regressor</th>\n",
       "    </tr>\n",
       "  </thead>\n",
       "  <tbody>\n",
       "    <tr>\n",
       "      <th>R2 score</th>\n",
       "      <td>0.869022</td>\n",
       "      <td>0.869022</td>\n",
       "      <td>0.869022</td>\n",
       "      <td>0.869022</td>\n",
       "      <td>0.869022</td>\n",
       "    </tr>\n",
       "    <tr>\n",
       "      <th>RMSE score</th>\n",
       "      <td>5875.946108</td>\n",
       "      <td>12314.268953</td>\n",
       "      <td>12314.237530</td>\n",
       "      <td>4665.932853</td>\n",
       "      <td>4428.691354</td>\n",
       "    </tr>\n",
       "    <tr>\n",
       "      <th>Cross Validation Score</th>\n",
       "      <td>0.746058</td>\n",
       "      <td>0.835434</td>\n",
       "      <td>0.746058</td>\n",
       "      <td>0.831332</td>\n",
       "      <td>0.854499</td>\n",
       "    </tr>\n",
       "  </tbody>\n",
       "</table>\n",
       "</div>"
      ],
      "text/plain": [
       "                        Multiple Linear Regression  Polynomial Regression  \\\n",
       "R2 score                                  0.869022               0.869022   \n",
       "RMSE score                             5875.946108           12314.268953   \n",
       "Cross Validation Score                    0.746058               0.835434   \n",
       "\n",
       "                        Ridge Regression  Decision Tree Regressor  \\\n",
       "R2 score                        0.869022                 0.869022   \n",
       "RMSE score                  12314.237530              4665.932853   \n",
       "Cross Validation Score          0.746058                 0.831332   \n",
       "\n",
       "                        Random Forest Regressor  \n",
       "R2 score                               0.869022  \n",
       "RMSE score                          4428.691354  \n",
       "Cross Validation Score                 0.854499  "
      ]
     },
     "execution_count": 140,
     "metadata": {},
     "output_type": "execute_result"
    }
   ],
   "source": [
    "models_comparison"
   ]
  },
  {
   "cell_type": "markdown",
   "id": "af63c27a",
   "metadata": {},
   "source": [
    " "
   ]
  },
  {
   "cell_type": "markdown",
   "id": "b8b466b0",
   "metadata": {},
   "source": [
    " #### apparantly, the Random Forest Regressor is the best fit to the model and hence, we shall us it for our final model"
   ]
  },
  {
   "cell_type": "markdown",
   "id": "0f85333c",
   "metadata": {},
   "source": [
    "### final model: RandomTreeRegressor"
   ]
  },
  {
   "cell_type": "code",
   "execution_count": 141,
   "id": "686466b7",
   "metadata": {},
   "outputs": [
    {
     "data": {
      "text/plain": [
       "RandomForestRegressor(max_depth=5, n_estimators=400, random_state=13)"
      ]
     },
     "execution_count": 141,
     "metadata": {},
     "output_type": "execute_result"
    }
   ],
   "source": [
    "#training the model with all data available\n",
    "random_forest_reg.fit(x_data, y_data)"
   ]
  },
  {
   "cell_type": "code",
   "execution_count": null,
   "id": "6ba4223c",
   "metadata": {},
   "outputs": [],
   "source": []
  },
  {
   "cell_type": "code",
   "execution_count": null,
   "id": "89430605",
   "metadata": {},
   "outputs": [],
   "source": []
  },
  {
   "cell_type": "code",
   "execution_count": null,
   "id": "9c6ab8f9",
   "metadata": {},
   "outputs": [],
   "source": []
  },
  {
   "cell_type": "code",
   "execution_count": null,
   "id": "be9c1739",
   "metadata": {},
   "outputs": [],
   "source": []
  },
  {
   "cell_type": "code",
   "execution_count": null,
   "id": "7fcde5f4",
   "metadata": {},
   "outputs": [],
   "source": []
  },
  {
   "cell_type": "code",
   "execution_count": null,
   "id": "b7279794",
   "metadata": {},
   "outputs": [],
   "source": []
  },
  {
   "cell_type": "code",
   "execution_count": null,
   "id": "81754bc0",
   "metadata": {},
   "outputs": [],
   "source": []
  },
  {
   "cell_type": "code",
   "execution_count": null,
   "id": "517b0f54",
   "metadata": {},
   "outputs": [],
   "source": []
  },
  {
   "cell_type": "code",
   "execution_count": null,
   "id": "db891633",
   "metadata": {},
   "outputs": [],
   "source": []
  },
  {
   "cell_type": "code",
   "execution_count": null,
   "id": "219d0be0",
   "metadata": {},
   "outputs": [],
   "source": []
  },
  {
   "cell_type": "code",
   "execution_count": null,
   "id": "78f7f164",
   "metadata": {},
   "outputs": [],
   "source": []
  },
  {
   "cell_type": "code",
   "execution_count": null,
   "id": "7bb642a1",
   "metadata": {},
   "outputs": [],
   "source": []
  },
  {
   "cell_type": "code",
   "execution_count": null,
   "id": "7a71171d",
   "metadata": {},
   "outputs": [],
   "source": []
  },
  {
   "cell_type": "code",
   "execution_count": null,
   "id": "3e93f291",
   "metadata": {},
   "outputs": [],
   "source": []
  },
  {
   "cell_type": "code",
   "execution_count": null,
   "id": "2e712e98",
   "metadata": {},
   "outputs": [],
   "source": []
  },
  {
   "cell_type": "code",
   "execution_count": null,
   "id": "a24bc1a5",
   "metadata": {},
   "outputs": [],
   "source": []
  },
  {
   "cell_type": "code",
   "execution_count": null,
   "id": "64614d81",
   "metadata": {},
   "outputs": [],
   "source": []
  }
 ],
 "metadata": {
  "kernelspec": {
   "display_name": "Python 3",
   "language": "python",
   "name": "python3"
  },
  "language_info": {
   "codemirror_mode": {
    "name": "ipython",
    "version": 3
   },
   "file_extension": ".py",
   "mimetype": "text/x-python",
   "name": "python",
   "nbconvert_exporter": "python",
   "pygments_lexer": "ipython3",
   "version": "3.8.8"
  }
 },
 "nbformat": 4,
 "nbformat_minor": 5
}
